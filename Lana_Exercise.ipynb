{
 "cells": [
  {
   "cell_type": "code",
   "execution_count": 1,
   "id": "9dbe920f",
   "metadata": {},
   "outputs": [],
   "source": [
    "import pandas as pd\n",
    "import numpy as np\n",
    "import matplotlib.pyplot as plt"
   ]
  },
  {
   "cell_type": "markdown",
   "id": "d06cd2ea",
   "metadata": {},
   "source": [
    "# Data Loading and initial look"
   ]
  },
  {
   "cell_type": "code",
   "execution_count": 2,
   "id": "a9f4e27a",
   "metadata": {},
   "outputs": [],
   "source": [
    "transactions_df = pd.read_csv(\"credit_card_transactions-ibm_v2.csv\")"
   ]
  },
  {
   "cell_type": "code",
   "execution_count": 3,
   "id": "94aaecb2",
   "metadata": {},
   "outputs": [
    {
     "data": {
      "text/html": [
       "<div>\n",
       "<style scoped>\n",
       "    .dataframe tbody tr th:only-of-type {\n",
       "        vertical-align: middle;\n",
       "    }\n",
       "\n",
       "    .dataframe tbody tr th {\n",
       "        vertical-align: top;\n",
       "    }\n",
       "\n",
       "    .dataframe thead th {\n",
       "        text-align: right;\n",
       "    }\n",
       "</style>\n",
       "<table border=\"1\" class=\"dataframe\">\n",
       "  <thead>\n",
       "    <tr style=\"text-align: right;\">\n",
       "      <th></th>\n",
       "      <th>User</th>\n",
       "      <th>Card</th>\n",
       "      <th>Year</th>\n",
       "      <th>Month</th>\n",
       "      <th>Day</th>\n",
       "      <th>Time</th>\n",
       "      <th>Amount</th>\n",
       "      <th>Use Chip</th>\n",
       "      <th>Merchant Name</th>\n",
       "      <th>Merchant City</th>\n",
       "      <th>Merchant State</th>\n",
       "      <th>Zip</th>\n",
       "      <th>MCC</th>\n",
       "      <th>Errors?</th>\n",
       "      <th>Is Fraud?</th>\n",
       "    </tr>\n",
       "  </thead>\n",
       "  <tbody>\n",
       "    <tr>\n",
       "      <th>0</th>\n",
       "      <td>0</td>\n",
       "      <td>0</td>\n",
       "      <td>2002</td>\n",
       "      <td>9</td>\n",
       "      <td>1</td>\n",
       "      <td>06:21</td>\n",
       "      <td>$134.09</td>\n",
       "      <td>Swipe Transaction</td>\n",
       "      <td>3527213246127876953</td>\n",
       "      <td>La Verne</td>\n",
       "      <td>CA</td>\n",
       "      <td>91750.0</td>\n",
       "      <td>5300</td>\n",
       "      <td>NaN</td>\n",
       "      <td>No</td>\n",
       "    </tr>\n",
       "    <tr>\n",
       "      <th>1</th>\n",
       "      <td>0</td>\n",
       "      <td>0</td>\n",
       "      <td>2002</td>\n",
       "      <td>9</td>\n",
       "      <td>1</td>\n",
       "      <td>06:42</td>\n",
       "      <td>$38.48</td>\n",
       "      <td>Swipe Transaction</td>\n",
       "      <td>-727612092139916043</td>\n",
       "      <td>Monterey Park</td>\n",
       "      <td>CA</td>\n",
       "      <td>91754.0</td>\n",
       "      <td>5411</td>\n",
       "      <td>NaN</td>\n",
       "      <td>No</td>\n",
       "    </tr>\n",
       "    <tr>\n",
       "      <th>2</th>\n",
       "      <td>0</td>\n",
       "      <td>0</td>\n",
       "      <td>2002</td>\n",
       "      <td>9</td>\n",
       "      <td>2</td>\n",
       "      <td>06:22</td>\n",
       "      <td>$120.34</td>\n",
       "      <td>Swipe Transaction</td>\n",
       "      <td>-727612092139916043</td>\n",
       "      <td>Monterey Park</td>\n",
       "      <td>CA</td>\n",
       "      <td>91754.0</td>\n",
       "      <td>5411</td>\n",
       "      <td>NaN</td>\n",
       "      <td>No</td>\n",
       "    </tr>\n",
       "    <tr>\n",
       "      <th>3</th>\n",
       "      <td>0</td>\n",
       "      <td>0</td>\n",
       "      <td>2002</td>\n",
       "      <td>9</td>\n",
       "      <td>2</td>\n",
       "      <td>17:45</td>\n",
       "      <td>$128.95</td>\n",
       "      <td>Swipe Transaction</td>\n",
       "      <td>3414527459579106770</td>\n",
       "      <td>Monterey Park</td>\n",
       "      <td>CA</td>\n",
       "      <td>91754.0</td>\n",
       "      <td>5651</td>\n",
       "      <td>NaN</td>\n",
       "      <td>No</td>\n",
       "    </tr>\n",
       "    <tr>\n",
       "      <th>4</th>\n",
       "      <td>0</td>\n",
       "      <td>0</td>\n",
       "      <td>2002</td>\n",
       "      <td>9</td>\n",
       "      <td>3</td>\n",
       "      <td>06:23</td>\n",
       "      <td>$104.71</td>\n",
       "      <td>Swipe Transaction</td>\n",
       "      <td>5817218446178736267</td>\n",
       "      <td>La Verne</td>\n",
       "      <td>CA</td>\n",
       "      <td>91750.0</td>\n",
       "      <td>5912</td>\n",
       "      <td>NaN</td>\n",
       "      <td>No</td>\n",
       "    </tr>\n",
       "  </tbody>\n",
       "</table>\n",
       "</div>"
      ],
      "text/plain": [
       "   User  Card  Year  Month  Day   Time   Amount           Use Chip  \\\n",
       "0     0     0  2002      9    1  06:21  $134.09  Swipe Transaction   \n",
       "1     0     0  2002      9    1  06:42   $38.48  Swipe Transaction   \n",
       "2     0     0  2002      9    2  06:22  $120.34  Swipe Transaction   \n",
       "3     0     0  2002      9    2  17:45  $128.95  Swipe Transaction   \n",
       "4     0     0  2002      9    3  06:23  $104.71  Swipe Transaction   \n",
       "\n",
       "         Merchant Name  Merchant City Merchant State      Zip   MCC Errors?  \\\n",
       "0  3527213246127876953       La Verne             CA  91750.0  5300     NaN   \n",
       "1  -727612092139916043  Monterey Park             CA  91754.0  5411     NaN   \n",
       "2  -727612092139916043  Monterey Park             CA  91754.0  5411     NaN   \n",
       "3  3414527459579106770  Monterey Park             CA  91754.0  5651     NaN   \n",
       "4  5817218446178736267       La Verne             CA  91750.0  5912     NaN   \n",
       "\n",
       "  Is Fraud?  \n",
       "0        No  \n",
       "1        No  \n",
       "2        No  \n",
       "3        No  \n",
       "4        No  "
      ]
     },
     "execution_count": 3,
     "metadata": {},
     "output_type": "execute_result"
    }
   ],
   "source": [
    "transactions_df.head()"
   ]
  },
  {
   "cell_type": "code",
   "execution_count": 4,
   "id": "acba10b8",
   "metadata": {},
   "outputs": [
    {
     "data": {
      "text/html": [
       "<div>\n",
       "<style scoped>\n",
       "    .dataframe tbody tr th:only-of-type {\n",
       "        vertical-align: middle;\n",
       "    }\n",
       "\n",
       "    .dataframe tbody tr th {\n",
       "        vertical-align: top;\n",
       "    }\n",
       "\n",
       "    .dataframe thead th {\n",
       "        text-align: right;\n",
       "    }\n",
       "</style>\n",
       "<table border=\"1\" class=\"dataframe\">\n",
       "  <thead>\n",
       "    <tr style=\"text-align: right;\">\n",
       "      <th></th>\n",
       "      <th>User</th>\n",
       "      <th>Card</th>\n",
       "      <th>Year</th>\n",
       "      <th>Month</th>\n",
       "      <th>Day</th>\n",
       "      <th>Time</th>\n",
       "      <th>Amount</th>\n",
       "      <th>Use Chip</th>\n",
       "      <th>Merchant Name</th>\n",
       "      <th>Merchant City</th>\n",
       "      <th>Merchant State</th>\n",
       "      <th>Zip</th>\n",
       "      <th>MCC</th>\n",
       "      <th>Errors?</th>\n",
       "      <th>Is Fraud?</th>\n",
       "    </tr>\n",
       "  </thead>\n",
       "  <tbody>\n",
       "    <tr>\n",
       "      <th>24386895</th>\n",
       "      <td>1999</td>\n",
       "      <td>1</td>\n",
       "      <td>2020</td>\n",
       "      <td>2</td>\n",
       "      <td>27</td>\n",
       "      <td>22:23</td>\n",
       "      <td>$-54.00</td>\n",
       "      <td>Chip Transaction</td>\n",
       "      <td>-5162038175624867091</td>\n",
       "      <td>Merrimack</td>\n",
       "      <td>NH</td>\n",
       "      <td>3054.0</td>\n",
       "      <td>5541</td>\n",
       "      <td>NaN</td>\n",
       "      <td>No</td>\n",
       "    </tr>\n",
       "    <tr>\n",
       "      <th>24386896</th>\n",
       "      <td>1999</td>\n",
       "      <td>1</td>\n",
       "      <td>2020</td>\n",
       "      <td>2</td>\n",
       "      <td>27</td>\n",
       "      <td>22:24</td>\n",
       "      <td>$54.00</td>\n",
       "      <td>Chip Transaction</td>\n",
       "      <td>-5162038175624867091</td>\n",
       "      <td>Merrimack</td>\n",
       "      <td>NH</td>\n",
       "      <td>3054.0</td>\n",
       "      <td>5541</td>\n",
       "      <td>NaN</td>\n",
       "      <td>No</td>\n",
       "    </tr>\n",
       "    <tr>\n",
       "      <th>24386897</th>\n",
       "      <td>1999</td>\n",
       "      <td>1</td>\n",
       "      <td>2020</td>\n",
       "      <td>2</td>\n",
       "      <td>28</td>\n",
       "      <td>07:43</td>\n",
       "      <td>$59.15</td>\n",
       "      <td>Chip Transaction</td>\n",
       "      <td>2500998799892805156</td>\n",
       "      <td>Merrimack</td>\n",
       "      <td>NH</td>\n",
       "      <td>3054.0</td>\n",
       "      <td>4121</td>\n",
       "      <td>NaN</td>\n",
       "      <td>No</td>\n",
       "    </tr>\n",
       "    <tr>\n",
       "      <th>24386898</th>\n",
       "      <td>1999</td>\n",
       "      <td>1</td>\n",
       "      <td>2020</td>\n",
       "      <td>2</td>\n",
       "      <td>28</td>\n",
       "      <td>20:10</td>\n",
       "      <td>$43.12</td>\n",
       "      <td>Chip Transaction</td>\n",
       "      <td>2500998799892805156</td>\n",
       "      <td>Merrimack</td>\n",
       "      <td>NH</td>\n",
       "      <td>3054.0</td>\n",
       "      <td>4121</td>\n",
       "      <td>NaN</td>\n",
       "      <td>No</td>\n",
       "    </tr>\n",
       "    <tr>\n",
       "      <th>24386899</th>\n",
       "      <td>1999</td>\n",
       "      <td>1</td>\n",
       "      <td>2020</td>\n",
       "      <td>2</td>\n",
       "      <td>28</td>\n",
       "      <td>23:10</td>\n",
       "      <td>$45.13</td>\n",
       "      <td>Chip Transaction</td>\n",
       "      <td>4751695835751691036</td>\n",
       "      <td>Merrimack</td>\n",
       "      <td>NH</td>\n",
       "      <td>3054.0</td>\n",
       "      <td>5814</td>\n",
       "      <td>NaN</td>\n",
       "      <td>No</td>\n",
       "    </tr>\n",
       "  </tbody>\n",
       "</table>\n",
       "</div>"
      ],
      "text/plain": [
       "          User  Card  Year  Month  Day   Time   Amount          Use Chip  \\\n",
       "24386895  1999     1  2020      2   27  22:23  $-54.00  Chip Transaction   \n",
       "24386896  1999     1  2020      2   27  22:24   $54.00  Chip Transaction   \n",
       "24386897  1999     1  2020      2   28  07:43   $59.15  Chip Transaction   \n",
       "24386898  1999     1  2020      2   28  20:10   $43.12  Chip Transaction   \n",
       "24386899  1999     1  2020      2   28  23:10   $45.13  Chip Transaction   \n",
       "\n",
       "                Merchant Name Merchant City Merchant State     Zip   MCC  \\\n",
       "24386895 -5162038175624867091     Merrimack             NH  3054.0  5541   \n",
       "24386896 -5162038175624867091     Merrimack             NH  3054.0  5541   \n",
       "24386897  2500998799892805156     Merrimack             NH  3054.0  4121   \n",
       "24386898  2500998799892805156     Merrimack             NH  3054.0  4121   \n",
       "24386899  4751695835751691036     Merrimack             NH  3054.0  5814   \n",
       "\n",
       "         Errors? Is Fraud?  \n",
       "24386895     NaN        No  \n",
       "24386896     NaN        No  \n",
       "24386897     NaN        No  \n",
       "24386898     NaN        No  \n",
       "24386899     NaN        No  "
      ]
     },
     "execution_count": 4,
     "metadata": {},
     "output_type": "execute_result"
    }
   ],
   "source": [
    "transactions_df.tail()"
   ]
  },
  {
   "cell_type": "code",
   "execution_count": 5,
   "id": "01313be7",
   "metadata": {},
   "outputs": [
    {
     "name": "stdout",
     "output_type": "stream",
     "text": [
      "<class 'pandas.core.frame.DataFrame'>\n",
      "RangeIndex: 24386900 entries, 0 to 24386899\n",
      "Data columns (total 15 columns):\n",
      " #   Column          Dtype  \n",
      "---  ------          -----  \n",
      " 0   User            int64  \n",
      " 1   Card            int64  \n",
      " 2   Year            int64  \n",
      " 3   Month           int64  \n",
      " 4   Day             int64  \n",
      " 5   Time            object \n",
      " 6   Amount          object \n",
      " 7   Use Chip        object \n",
      " 8   Merchant Name   int64  \n",
      " 9   Merchant City   object \n",
      " 10  Merchant State  object \n",
      " 11  Zip             float64\n",
      " 12  MCC             int64  \n",
      " 13  Errors?         object \n",
      " 14  Is Fraud?       object \n",
      "dtypes: float64(1), int64(7), object(7)\n",
      "memory usage: 2.7+ GB\n"
     ]
    }
   ],
   "source": [
    "transactions_df.info()"
   ]
  },
  {
   "cell_type": "markdown",
   "id": "7d1dc13c",
   "metadata": {},
   "source": [
    "Based on the outputs from head and info from *transactions_df*, at first glance there is no evidence that there are missing values for many columns, except for **Errors ?** column. Nevertheless, if after the exploratory analysis we find some missing values, we should impute them before feeding the data to the Machine Learning model."
   ]
  },
  {
   "cell_type": "markdown",
   "id": "5b39485a",
   "metadata": {},
   "source": [
    "# Exploratory Data Analysis\n",
    "\n",
    "For the initial EDA, I would like to identify potential useful features to predict if a transaction is fraudulent or no.\n",
    "This \"useful\" features selection is based on:\n",
    "- **Intuition**: aplication of common sense\n",
    "- **Experience**: previous projects in which I have worked for classificatio problems\n",
    "- **Facts**: whatever insight we can get from the EDA which can support / deny my intuition and experience.\n",
    "\n",
    "And by \"useful\" initial features, they would classify as such if they:\n",
    "- are numerical features;\n",
    "- are categorical, but with not too much levels (for practical purposes);\n",
    "- have potential to be good predictors, either by correlation / discrimination properties.\n",
    "\n",
    "First I'll explore the categorical features, and then we'll check the numerical features."
   ]
  },
  {
   "cell_type": "markdown",
   "id": "23e7f141",
   "metadata": {},
   "source": [
    "## Is Fraud? (target)\n",
    "First let's explore the target variable **Is Fraud?**. From the Distribution we can see there is an extreme imbalance in the classes: 99.9% (No) vs 0.1% (Yes). Usually when the positive class represents less than 10% of the distribution, the problem can be classified as *Anomaly detection*. It also makes sense for this case, as fraudulent transactions are usually anomalies, exceptions which should have some strange behavior.\n",
    "Ideally, we should apply some sampling technique to have a balanced distribution for the target before training the model. If we don't do that, the model will just try to predict that everything is not fraud to optimize the accuracy, which in baseline is 99.9%. Some options we have are:\n",
    "- *Downsampling*: this would result into a big loss of information, as we'll only be working with 0.2% of the data.\n",
    "- *Upsampling*: this would be the usual case, but in this case might introduce too many redundant instances.\n",
    "\n",
    "For an initial balancing technique, we can use a Random Forest with weights for the classes, so that for each tree the samples are taken to balance the distribution. \n",
    "For a more advanced, approach, and based on my experience with Anomaly detection and Ensemble methods, I would like to apply *Blagging* technique."
   ]
  },
  {
   "cell_type": "code",
   "execution_count": 6,
   "id": "27f28894",
   "metadata": {},
   "outputs": [
    {
     "name": "stdout",
     "output_type": "stream",
     "text": [
      "     Is Fraud?\n",
      "No     0.99878\n",
      "Yes    0.00122\n"
     ]
    },
    {
     "data": {
      "text/plain": [
       "<AxesSubplot:>"
      ]
     },
     "execution_count": 6,
     "metadata": {},
     "output_type": "execute_result"
    },
    {
     "data": {
      "image/png": "[encoded data removed]",
      "text/plain": [
       "<Figure size 432x288 with 1 Axes>"
      ]
     },
     "metadata": {
      "needs_background": "light"
     },
     "output_type": "display_data"
    }
   ],
   "source": [
    "target = transactions_df['Is Fraud?']\n",
    "target_percents = pd.DataFrame(target.value_counts() / target.shape[0])\n",
    "print(target_percents)\n",
    "target_percents.plot.bar(y='Is Fraud?')"
   ]
  },
  {
   "cell_type": "markdown",
   "id": "bb8aad37",
   "metadata": {},
   "source": [
    "For practical purposes of the analysis and model building, we'll encode the target as a binary feature:\n",
    "- \"Yes\" 1\n",
    "- \"No\": 0"
   ]
  },
  {
   "cell_type": "code",
   "execution_count": 7,
   "id": "d8516fed",
   "metadata": {},
   "outputs": [],
   "source": [
    "transactions_df['Is Fraud?'] = (transactions_df['Is Fraud?'] == 'Yes').astype(int)"
   ]
  },
  {
   "cell_type": "markdown",
   "id": "1f9e77dd",
   "metadata": {},
   "source": [
    "## Use Chip\n",
    "The **Use Chip** feature seems to have potential. It only has three levels: Chip, Online, and Swipe Transaction.\n",
    "In addition, it seems to be a discriminator by itself for the target. Notice how Online Transaction has a higher chance to be a fraudulent transaction, as around 85% of those were Online transactions, while fraudulent Chip Transactions it's relatively low around 10%. Fraudulent transactions with Swipe are around 5%.\n",
    "This was interesting to me, as I thought that the chip makes harder for fraud to occur, but it looks like actually there is higher chance for fraud (10% for chip vs 5% for swipe)."
   ]
  },
  {
   "cell_type": "code",
   "execution_count": 8,
   "id": "95213a60",
   "metadata": {},
   "outputs": [
    {
     "data": {
      "text/plain": [
       "Swipe Transaction     15386082\n",
       "Chip Transaction       6287598\n",
       "Online Transaction     2713220\n",
       "Name: Use Chip, dtype: int64"
      ]
     },
     "execution_count": 8,
     "metadata": {},
     "output_type": "execute_result"
    }
   ],
   "source": [
    "transactions_df['Use Chip'].value_counts()"
   ]
  },
  {
   "cell_type": "code",
   "execution_count": 9,
   "id": "23347297",
   "metadata": {},
   "outputs": [],
   "source": [
    "def check_potential(feature_name, target='Is Fraud?', df=transactions_df):\n",
    "    feature_percents = df.loc[:, [feature_name, target]]. \\\n",
    "        groupby(feature_name). \\\n",
    "        aggregate(np.mean)\n",
    "    feature_percents.plot.bar()\n",
    "    return feature_percents"
   ]
  },
  {
   "cell_type": "code",
   "execution_count": 10,
   "id": "0241f067",
   "metadata": {},
   "outputs": [
    {
     "data": {
      "text/html": [
       "<div>\n",
       "<style scoped>\n",
       "    .dataframe tbody tr th:only-of-type {\n",
       "        vertical-align: middle;\n",
       "    }\n",
       "\n",
       "    .dataframe tbody tr th {\n",
       "        vertical-align: top;\n",
       "    }\n",
       "\n",
       "    .dataframe thead th {\n",
       "        text-align: right;\n",
       "    }\n",
       "</style>\n",
       "<table border=\"1\" class=\"dataframe\">\n",
       "  <thead>\n",
       "    <tr style=\"text-align: right;\">\n",
       "      <th></th>\n",
       "      <th>Is Fraud?</th>\n",
       "    </tr>\n",
       "    <tr>\n",
       "      <th>Use Chip</th>\n",
       "      <th></th>\n",
       "    </tr>\n",
       "  </thead>\n",
       "  <tbody>\n",
       "    <tr>\n",
       "      <th>Chip Transaction</th>\n",
       "      <td>0.096636</td>\n",
       "    </tr>\n",
       "    <tr>\n",
       "      <th>Online Transaction</th>\n",
       "      <td>0.849697</td>\n",
       "    </tr>\n",
       "    <tr>\n",
       "      <th>Swipe Transaction</th>\n",
       "      <td>0.053667</td>\n",
       "    </tr>\n",
       "  </tbody>\n",
       "</table>\n",
       "</div>"
      ],
      "text/plain": [
       "                    Is Fraud?\n",
       "Use Chip                     \n",
       "Chip Transaction     0.096636\n",
       "Online Transaction   0.849697\n",
       "Swipe Transaction    0.053667"
      ]
     },
     "execution_count": 10,
     "metadata": {},
     "output_type": "execute_result"
    },
    {
     "data": {
      "image/png": "[encoded data removed]",
      "text/plain": [
       "<Figure size 432x288 with 1 Axes>"
      ]
     },
     "metadata": {
      "needs_background": "light"
     },
     "output_type": "display_data"
    }
   ],
   "source": [
    "use_chip_percents = check_potential('Use Chip')\n",
    "use_chip_percents / sum(use_chip_percents['Is Fraud?'])"
   ]
  },
  {
   "cell_type": "markdown",
   "id": "b32fdfa0",
   "metadata": {},
   "source": [
    "## Errors?\n",
    "I thought **Errors?** would have less levels, but as it is now with 23 levels seems too high to be included in a base model."
   ]
  },
  {
   "cell_type": "code",
   "execution_count": 11,
   "id": "0ba8146b",
   "metadata": {},
   "outputs": [
    {
     "data": {
      "text/plain": [
       "Insufficient Balance                                   242783\n",
       "Bad PIN                                                 58918\n",
       "Technical Glitch                                        48157\n",
       "Bad Card Number                                         13321\n",
       "Bad CVV                                                 10740\n",
       "Bad Expiration                                          10716\n",
       "Bad Zipcode                                              2079\n",
       "Bad PIN,Insufficient Balance                              581\n",
       "Insufficient Balance,Technical Glitch                     457\n",
       "Bad PIN,Technical Glitch                                  128\n",
       "Bad Card Number,Insufficient Balance                      122\n",
       "Bad CVV,Insufficient Balance                               89\n",
       "Bad Expiration,Insufficient Balance                        78\n",
       "Bad Card Number,Bad CVV                                    60\n",
       "Bad Card Number,Bad Expiration                             54\n",
       "Bad Expiration,Bad CVV                                     47\n",
       "Bad Expiration,Technical Glitch                            32\n",
       "Bad Card Number,Technical Glitch                           25\n",
       "Bad CVV,Technical Glitch                                   21\n",
       "Bad Zipcode,Insufficient Balance                           13\n",
       "Bad Zipcode,Technical Glitch                                7\n",
       "Bad Card Number,Bad Expiration,Insufficient Balance         2\n",
       "Bad Card Number,Bad Expiration,Technical Glitch             1\n",
       "Name: Errors?, dtype: int64"
      ]
     },
     "execution_count": 11,
     "metadata": {},
     "output_type": "execute_result"
    }
   ],
   "source": [
    "transactions_df['Errors?'].value_counts()"
   ]
  },
  {
   "cell_type": "markdown",
   "id": "4c51b704",
   "metadata": {},
   "source": [
    "Nevertheless, if we see the cumulative percentage, notice how the top 6 errors cover around 99% of the cases.\n",
    "Therefore, we can consider these as the most important levels, and tag the rest as *Other* error. This would give us 7 levels instead of 23. These information will be encoded in a new feature \"errors_group\", which might be more useful than the original one."
   ]
  },
  {
   "cell_type": "code",
   "execution_count": 12,
   "id": "a5a9bb11",
   "metadata": {},
   "outputs": [
    {
     "name": "stdout",
     "output_type": "stream",
     "text": [
      "Insufficient Balance                                   0.625035\n",
      "Bad PIN                                                0.151682\n",
      "Technical Glitch                                       0.123978\n",
      "Bad Card Number                                        0.034294\n",
      "Bad CVV                                                0.027650\n",
      "Bad Expiration                                         0.027588\n",
      "Bad Zipcode                                            0.005352\n",
      "Bad PIN,Insufficient Balance                           0.001496\n",
      "Insufficient Balance,Technical Glitch                  0.001177\n",
      "Bad PIN,Technical Glitch                               0.000330\n",
      "Bad Card Number,Insufficient Balance                   0.000314\n",
      "Bad CVV,Insufficient Balance                           0.000229\n",
      "Bad Expiration,Insufficient Balance                    0.000201\n",
      "Bad Card Number,Bad CVV                                0.000154\n",
      "Bad Card Number,Bad Expiration                         0.000139\n",
      "Bad Expiration,Bad CVV                                 0.000121\n",
      "Bad Expiration,Technical Glitch                        0.000082\n",
      "Bad Card Number,Technical Glitch                       0.000064\n",
      "Bad CVV,Technical Glitch                               0.000054\n",
      "Bad Zipcode,Insufficient Balance                       0.000033\n",
      "Bad Zipcode,Technical Glitch                           0.000018\n",
      "Bad Card Number,Bad Expiration,Insufficient Balance    0.000005\n",
      "Bad Card Number,Bad Expiration,Technical Glitch        0.000003\n",
      "Name: Errors?, dtype: float64\n",
      "\n",
      "Top 5 errors total: 0.9902273505461716\n"
     ]
    }
   ],
   "source": [
    "errors_counts = transactions_df['Errors?'].value_counts()\n",
    "errors_percents = errors_counts / sum(errors_counts)\n",
    "print(errors_percents)\n",
    "top_errors_totals = sum(errors_percents[:6])\n",
    "print(f\"\\nTop 5 errors total: {top_errors_totals}\")"
   ]
  },
  {
   "cell_type": "code",
   "execution_count": 13,
   "id": "9a4617bb",
   "metadata": {},
   "outputs": [],
   "source": [
    "def label_error(error_value):\n",
    "    if error_value is np.nan:\n",
    "        return 'No Error'\n",
    "    if error_value == 'Insufficient Balance':\n",
    "        return 'Insufficient Balance'\n",
    "    if error_value == 'Bad PIN':\n",
    "        return 'Bad PIN'\n",
    "    if error_value == 'Technical Glitch':\n",
    "        return 'Technical Glitch'\n",
    "    if error_value == 'Bad Card Number':\n",
    "        return 'Bad Card Number'\n",
    "    if error_value == 'Bad CVV':\n",
    "        return 'Bad CVV'\n",
    "    if error_value == 'Bad Expiration':\n",
    "        return 'Bad Expiration'\n",
    "    return 'Other'"
   ]
  },
  {
   "cell_type": "code",
   "execution_count": 14,
   "id": "ef3c3588",
   "metadata": {},
   "outputs": [],
   "source": [
    "transactions_df['errors_group'] = transactions_df.loc[:, 'Errors?'].apply(label_error)"
   ]
  },
  {
   "cell_type": "code",
   "execution_count": 15,
   "id": "2f5c7233",
   "metadata": {},
   "outputs": [
    {
     "data": {
      "text/html": [
       "<div>\n",
       "<style scoped>\n",
       "    .dataframe tbody tr th:only-of-type {\n",
       "        vertical-align: middle;\n",
       "    }\n",
       "\n",
       "    .dataframe tbody tr th {\n",
       "        vertical-align: top;\n",
       "    }\n",
       "\n",
       "    .dataframe thead th {\n",
       "        text-align: right;\n",
       "    }\n",
       "</style>\n",
       "<table border=\"1\" class=\"dataframe\">\n",
       "  <thead>\n",
       "    <tr style=\"text-align: right;\">\n",
       "      <th></th>\n",
       "      <th>Is Fraud?</th>\n",
       "    </tr>\n",
       "    <tr>\n",
       "      <th>errors_group</th>\n",
       "      <th></th>\n",
       "    </tr>\n",
       "  </thead>\n",
       "  <tbody>\n",
       "    <tr>\n",
       "      <th>Bad CVV</th>\n",
       "      <td>0.026071</td>\n",
       "    </tr>\n",
       "    <tr>\n",
       "      <th>Bad Card Number</th>\n",
       "      <td>0.007882</td>\n",
       "    </tr>\n",
       "    <tr>\n",
       "      <th>Bad Expiration</th>\n",
       "      <td>0.011198</td>\n",
       "    </tr>\n",
       "    <tr>\n",
       "      <th>Bad PIN</th>\n",
       "      <td>0.005126</td>\n",
       "    </tr>\n",
       "    <tr>\n",
       "      <th>Insufficient Balance</th>\n",
       "      <td>0.001631</td>\n",
       "    </tr>\n",
       "    <tr>\n",
       "      <th>No Error</th>\n",
       "      <td>0.001186</td>\n",
       "    </tr>\n",
       "    <tr>\n",
       "      <th>Other</th>\n",
       "      <td>0.005269</td>\n",
       "    </tr>\n",
       "    <tr>\n",
       "      <th>Technical Glitch</th>\n",
       "      <td>0.001308</td>\n",
       "    </tr>\n",
       "  </tbody>\n",
       "</table>\n",
       "</div>"
      ],
      "text/plain": [
       "                      Is Fraud?\n",
       "errors_group                   \n",
       "Bad CVV                0.026071\n",
       "Bad Card Number        0.007882\n",
       "Bad Expiration         0.011198\n",
       "Bad PIN                0.005126\n",
       "Insufficient Balance   0.001631\n",
       "No Error               0.001186\n",
       "Other                  0.005269\n",
       "Technical Glitch       0.001308"
      ]
     },
     "execution_count": 15,
     "metadata": {},
     "output_type": "execute_result"
    },
    {
     "data": {
      "image/png": "[encoded data removed]",
      "text/plain": [
       "<Figure size 432x288 with 1 Axes>"
      ]
     },
     "metadata": {
      "needs_background": "light"
     },
     "output_type": "display_data"
    }
   ],
   "source": [
    "check_potential('errors_group')"
   ]
  },
  {
   "cell_type": "markdown",
   "id": "efd3b8a9",
   "metadata": {},
   "source": [
    "It's interesting to see how Bad CVV has the higher chance of being a fraudulent transaction (around 2.5%). Bad Expiration also has a smal chance of around 1%. And Bad Card Number and Bad PIN are the next two with almost 0.5% of probability.\n",
    "What is interesting to observe, is that there are some fraudulent cases in which at least one of the properties of the credit card is unknown."
   ]
  },
  {
   "cell_type": "markdown",
   "id": "c3b8120b",
   "metadata": {},
   "source": [
    "## Amount\n",
    "For the **Amount** feature, first we'll do an appropriate parsing to float. In addition, we'll apply a capping by IQR to remove outliers (for plotting purposes)."
   ]
  },
  {
   "cell_type": "code",
   "execution_count": 16,
   "id": "059c9e6b",
   "metadata": {},
   "outputs": [],
   "source": [
    "def curr_to_float(currency):\n",
    "    return float(currency.replace('$', ''))\n",
    "\n",
    "transactions_df['Amount'] = transactions_df['Amount'].apply(curr_to_float)"
   ]
  },
  {
   "cell_type": "code",
   "execution_count": 17,
   "id": "f96c011c",
   "metadata": {},
   "outputs": [],
   "source": [
    "def cap_by_IQR(feature):\n",
    "    \"\"\"Apply and IQR for capping the low and high limits, to remove outliers.\n",
    "    \"\"\"\n",
    "    temp_df = pd.DataFrame({'temp_feature': feature})\n",
    "    Q1 = temp_df['temp_feature'].quantile(0.25)\n",
    "    Q3 = temp_df['temp_feature'].quantile(0.75)\n",
    "    IQR = Q3 - Q1\n",
    "    low_limit = Q1 - 1.5 * IQR\n",
    "    high_limit = Q3 + 1.5 * IQR\n",
    "    temp_df.loc[temp_df.temp_feature < low_limit, 'temp_feature'] = low_limit\n",
    "    temp_df.loc[temp_df.temp_feature > high_limit, 'temp_feature'] = high_limit\n",
    "    return temp_df.temp_feature\n",
    "\n",
    "transactions_df['Amount_capped'] = cap_by_IQR(transactions_df['Amount'])"
   ]
  },
  {
   "cell_type": "code",
   "execution_count": 18,
   "id": "867ea868",
   "metadata": {},
   "outputs": [
    {
     "data": {
      "image/png": "[encoded data removed]",
      "text/plain": [
       "<Figure size 432x288 with 1 Axes>"
      ]
     },
     "metadata": {
      "needs_background": "light"
     },
     "output_type": "display_data"
    },
    {
     "data": {
      "image/png": "[encoded data removed]",
      "text/plain": [
       "<Figure size 432x288 with 1 Axes>"
      ]
     },
     "metadata": {
      "needs_background": "light"
     },
     "output_type": "display_data"
    }
   ],
   "source": [
    "transactions_df.loc[transactions_df['Is Fraud?'] == 1, 'Amount_capped'].plot.hist(bins=30, title='Fraudulent', color='orange')\n",
    "plt.show()\n",
    "transactions_df.loc[transactions_df['Is Fraud?'] == 0, 'Amount_capped'].plot.hist(bins=30, title='No Fraud', color='blue')\n",
    "plt.show()"
   ]
  },
  {
   "cell_type": "markdown",
   "id": "71bd8ac6",
   "metadata": {},
   "source": [
    "This feature seems to have some discrimination potential, as transaction which are fraudulent seem to be biased toward higher values than normal transactions. Maybe an indicator that the ones who commit fraud try to get as much as possible?\n",
    "Also, we can see that the average amount for fraudulent transactions is much higher than for normal ones: 109 vs 44 USD.\n",
    "By performing a  Welch’s t-test for the difference in means, we can see that there is enough evidence to reject the null hypothesis of equal population means (p-value < 0.05)"
   ]
  },
  {
   "cell_type": "code",
   "execution_count": 19,
   "id": "512d852a",
   "metadata": {},
   "outputs": [
    {
     "data": {
      "text/html": [
       "<div>\n",
       "<style scoped>\n",
       "    .dataframe tbody tr th:only-of-type {\n",
       "        vertical-align: middle;\n",
       "    }\n",
       "\n",
       "    .dataframe tbody tr th {\n",
       "        vertical-align: top;\n",
       "    }\n",
       "\n",
       "    .dataframe thead th {\n",
       "        text-align: right;\n",
       "    }\n",
       "</style>\n",
       "<table border=\"1\" class=\"dataframe\">\n",
       "  <thead>\n",
       "    <tr style=\"text-align: right;\">\n",
       "      <th></th>\n",
       "      <th>Amount</th>\n",
       "    </tr>\n",
       "    <tr>\n",
       "      <th>Is Fraud?</th>\n",
       "      <th></th>\n",
       "    </tr>\n",
       "  </thead>\n",
       "  <tbody>\n",
       "    <tr>\n",
       "      <th>0</th>\n",
       "      <td>43.554648</td>\n",
       "    </tr>\n",
       "    <tr>\n",
       "      <th>1</th>\n",
       "      <td>108.590874</td>\n",
       "    </tr>\n",
       "  </tbody>\n",
       "</table>\n",
       "</div>"
      ],
      "text/plain": [
       "               Amount\n",
       "Is Fraud?            \n",
       "0           43.554648\n",
       "1          108.590874"
      ]
     },
     "execution_count": 19,
     "metadata": {},
     "output_type": "execute_result"
    },
    {
     "data": {
      "image/png": "[encoded data removed]",
      "text/plain": [
       "<Figure size 432x288 with 1 Axes>"
      ]
     },
     "metadata": {
      "needs_background": "light"
     },
     "output_type": "display_data"
    }
   ],
   "source": [
    "check_potential('Is Fraud?', 'Amount')"
   ]
  },
  {
   "cell_type": "code",
   "execution_count": 20,
   "id": "5ed882df",
   "metadata": {},
   "outputs": [
    {
     "data": {
      "text/plain": [
       "Ttest_indResult(statistic=29.61744932636242, pvalue=1.2875584230157716e-186)"
      ]
     },
     "execution_count": 20,
     "metadata": {},
     "output_type": "execute_result"
    }
   ],
   "source": [
    "from scipy import stats\n",
    "\n",
    "normal_amount = transactions_df.loc[transactions_df['Is Fraud?'] == 0, 'Amount']\n",
    "fraudulent_amount = transactions_df.loc[transactions_df['Is Fraud?'] == 1, 'Amount']\n",
    "stats.ttest_ind(fraudulent_amount.sample(10000), normal_amount.sample(10000), equal_var=False)"
   ]
  },
  {
   "cell_type": "markdown",
   "id": "0f62ba14",
   "metadata": {},
   "source": [
    "## Time (hour)\n",
    "For the **time** feature, first we'll do an appropriate parsing to float. We'll just extract the hour part from it, and store it into a new feature **hour**.\n",
    "Notice how the transactions which are fraudulent have a varying patten across the hour of the day. With two peaks in the early morning (3am to 5am) and around the midday. After midday it begins to decrease, until it drops at 8pm until the midnight.\n",
    "This varying distribution allow us to think that the **hour** feature can be useful to identify a fraudulent transaction."
   ]
  },
  {
   "cell_type": "code",
   "execution_count": 21,
   "id": "ccbd190d",
   "metadata": {},
   "outputs": [],
   "source": [
    "def parse_time(time_str):\n",
    "    return int(time_str.split(':')[0])\n",
    "    \n",
    "transactions_df['hour'] = transactions_df.loc[:, 'Time'].apply(parse_time)"
   ]
  },
  {
   "cell_type": "code",
   "execution_count": 22,
   "id": "838c2df5",
   "metadata": {},
   "outputs": [
    {
     "data": {
      "image/png": "[encoded data removed]",
      "text/plain": [
       "<Figure size 432x288 with 1 Axes>"
      ]
     },
     "metadata": {
      "needs_background": "light"
     },
     "output_type": "display_data"
    }
   ],
   "source": [
    "hour_percents = check_potential('hour')"
   ]
  },
  {
   "cell_type": "markdown",
   "id": "792d1bdf",
   "metadata": {},
   "source": [
    "## Month\n",
    "Like **hour**, I thought that **Month** feature could also be an indicator of fraud, as some months have some special events like Easter, Christmas, Thanksgiving... which might make more attractive to have fraud.\n",
    "While there seems to be a patterns across the months, there is just a slight variation. With some interesting peaks at March, August, and the last three months."
   ]
  },
  {
   "cell_type": "code",
   "execution_count": 23,
   "id": "98dc68a3",
   "metadata": {},
   "outputs": [
    {
     "data": {
      "image/png": "[encoded data removed]",
      "text/plain": [
       "<Figure size 432x288 with 1 Axes>"
      ]
     },
     "metadata": {
      "needs_background": "light"
     },
     "output_type": "display_data"
    }
   ],
   "source": [
    "month_percents = check_potential('Month')"
   ]
  },
  {
   "cell_type": "markdown",
   "id": "f5804c11",
   "metadata": {},
   "source": [
    "## Day\n",
    "**Day** feature seems to show a similar pattern as with Month, just a slight variation but with some interesting peaks at some days, like 12 and close to 20. We see how on the first few days and the last days of the month there seem to be an increase in fraudulent transactions. Maybe, as these days are close to paydays, it might make more attractive to commit fraud."
   ]
  },
  {
   "cell_type": "code",
   "execution_count": 24,
   "id": "385e3f0c",
   "metadata": {},
   "outputs": [
    {
     "data": {
      "image/png": "[encoded data removed]",
      "text/plain": [
       "<Figure size 432x288 with 1 Axes>"
      ]
     },
     "metadata": {
      "needs_background": "light"
     },
     "output_type": "display_data"
    }
   ],
   "source": [
    "day_percents = check_potential('Day')"
   ]
  },
  {
   "cell_type": "markdown",
   "id": "dca7195b",
   "metadata": {},
   "source": [
    "## Merchant-based features\n",
    "Most **merchant-based** columns have too many unique values as to be included in a base model:\n",
    "- **Merchant Name** has around 100K unique values\n",
    "- **Merchant City** has around 13K unique values\n",
    "- **Merchant State** has 223 unique values\n",
    "- **Zip** has around 27K unique values\n",
    "- **MCC** has 109 unique values"
   ]
  },
  {
   "cell_type": "code",
   "execution_count": 25,
   "id": "f971affd",
   "metadata": {},
   "outputs": [
    {
     "name": "stdout",
     "output_type": "stream",
     "text": [
      "Total Merchant Names: 100343\n",
      "Relevant names: 541\n"
     ]
    }
   ],
   "source": [
    "name_counts = transactions_df['Merchant Name'].value_counts()\n",
    "print(f'Total Merchant Names: {len(name_counts)}')\n",
    "name_percents = name_counts / sum(name_counts) * 100\n",
    "print(f'Relevant names: {sum(name_percents > 0.01)}')"
   ]
  },
  {
   "cell_type": "code",
   "execution_count": 26,
   "id": "a5d3d882",
   "metadata": {},
   "outputs": [
    {
     "name": "stdout",
     "output_type": "stream",
     "text": [
      "Total Merchant Cities: 13429\n",
      "Relevant cities: 171\n"
     ]
    }
   ],
   "source": [
    "city_counts = transactions_df['Merchant City'].value_counts()\n",
    "print(f'Total Merchant Cities: {len(city_counts)}')\n",
    "city_percents = city_counts / sum(city_counts) * 100\n",
    "print(f'Relevant cities: {sum(city_percents > 0.1)}')"
   ]
  },
  {
   "cell_type": "code",
   "execution_count": 50,
   "id": "c398cb91",
   "metadata": {},
   "outputs": [
    {
     "name": "stdout",
     "output_type": "stream",
     "text": [
      "Total Merchant States: 223\n",
      "Relevant States: 40\n",
      "Cummulative percent: 96.44716517464931\n"
     ]
    }
   ],
   "source": [
    "state_counts = transactions_df['Merchant State'].value_counts()\n",
    "print(f'Total Merchant States: {len(state_counts)}')\n",
    "state_percents = state_counts / sum(state_counts) * 100\n",
    "print(f'Relevant States: {sum(state_percents > 0.5)}')\n",
    "sum(state_percents[:40])\n",
    "print(f'Cummulative percent:', sum(state_percents[:40]))"
   ]
  },
  {
   "cell_type": "code",
   "execution_count": 28,
   "id": "d076e3db",
   "metadata": {},
   "outputs": [
    {
     "name": "stdout",
     "output_type": "stream",
     "text": [
      "Total Zip codes: 27321\n",
      "Relevant Zip codes: 86\n"
     ]
    }
   ],
   "source": [
    "zip_counts = transactions_df['Zip'].value_counts()\n",
    "print(f'Total Zip codes: {len(zip_counts)}')\n",
    "zip_percents = zip_counts / sum(zip_counts) * 100\n",
    "print(f'Relevant Zip codes: {sum(zip_percents > 0.1)}')"
   ]
  },
  {
   "cell_type": "code",
   "execution_count": 51,
   "id": "5c81b7e8",
   "metadata": {},
   "outputs": [
    {
     "name": "stdout",
     "output_type": "stream",
     "text": [
      "Total MCC codes: 109\n",
      "Relevant MCC codes: 38\n",
      "Cummulative percent: 96.3110604463872\n"
     ]
    }
   ],
   "source": [
    "mcc_counts = transactions_df['MCC'].value_counts()\n",
    "print(f'Total MCC codes: {len(mcc_counts)}')\n",
    "mcc_percents = mcc_counts / sum(mcc_counts) * 100\n",
    "print(f'Relevant MCC codes: {sum(mcc_percents > 0.2)}')\n",
    "print(f'Cummulative percent:', sum(mcc_percents[:40]))"
   ]
  },
  {
   "cell_type": "markdown",
   "id": "6e410eb3",
   "metadata": {},
   "source": [
    "**MCC** is a feature which would be interesting to add, as it denotes the type of business providing a service or selling merchandise. In addition, MCCs are used by card issuers to categorize, track or restrict certain types of purchases.\n",
    "Therefore, some MCCs might appear more often on fraudulent transactions.\n",
    "\n",
    "To include it as a feature, we'll consider the top 40 as relevant MCC codes, which represent around 96% of the cases. And classify the rest as others.\n",
    "We'll do something similar for the **Merchant State** feature, as also the top 40 represent around 96% of the cases."
   ]
  },
  {
   "cell_type": "code",
   "execution_count": 30,
   "id": "005d94b7",
   "metadata": {},
   "outputs": [],
   "source": [
    "top_40_states = state_percents.index[:40]\n",
    "def label_state(state):\n",
    "    if state in top_40_states:\n",
    "        return state\n",
    "    return 'Other'\n",
    "\n",
    "transactions_df['merchant_state_group'] = transactions_df.loc[:, 'Merchant State'].apply(label_state)"
   ]
  },
  {
   "cell_type": "code",
   "execution_count": 142,
   "id": "d09e43ee",
   "metadata": {
    "scrolled": true
   },
   "outputs": [
    {
     "name": "stdout",
     "output_type": "stream",
     "text": [
      "\n",
      "Cummulative score: 0.88\n"
     ]
    },
    {
     "data": {
      "text/html": [
       "<div>\n",
       "<style scoped>\n",
       "    .dataframe tbody tr th:only-of-type {\n",
       "        vertical-align: middle;\n",
       "    }\n",
       "\n",
       "    .dataframe tbody tr th {\n",
       "        vertical-align: top;\n",
       "    }\n",
       "\n",
       "    .dataframe thead tr th {\n",
       "        text-align: left;\n",
       "    }\n",
       "\n",
       "    .dataframe thead tr:last-of-type th {\n",
       "        text-align: right;\n",
       "    }\n",
       "</style>\n",
       "<table border=\"1\" class=\"dataframe\">\n",
       "  <thead>\n",
       "    <tr>\n",
       "      <th></th>\n",
       "      <th colspan=\"2\" halign=\"left\">Is Fraud?</th>\n",
       "      <th>percent</th>\n",
       "      <th>score</th>\n",
       "    </tr>\n",
       "    <tr>\n",
       "      <th></th>\n",
       "      <th>mean</th>\n",
       "      <th>count</th>\n",
       "      <th></th>\n",
       "      <th></th>\n",
       "    </tr>\n",
       "    <tr>\n",
       "      <th>Merchant State</th>\n",
       "      <th></th>\n",
       "      <th></th>\n",
       "      <th></th>\n",
       "      <th></th>\n",
       "    </tr>\n",
       "  </thead>\n",
       "  <tbody>\n",
       "    <tr>\n",
       "      <th>Italy</th>\n",
       "      <td>0.536312</td>\n",
       "      <td>8730</td>\n",
       "      <td>0.000403</td>\n",
       "      <td>0.410414</td>\n",
       "    </tr>\n",
       "    <tr>\n",
       "      <th>OH</th>\n",
       "      <td>0.000980</td>\n",
       "      <td>895970</td>\n",
       "      <td>0.041354</td>\n",
       "      <td>0.076964</td>\n",
       "    </tr>\n",
       "    <tr>\n",
       "      <th>CA</th>\n",
       "      <td>0.000290</td>\n",
       "      <td>2591830</td>\n",
       "      <td>0.119626</td>\n",
       "      <td>0.065831</td>\n",
       "    </tr>\n",
       "    <tr>\n",
       "      <th>Algeria</th>\n",
       "      <td>0.961774</td>\n",
       "      <td>654</td>\n",
       "      <td>0.000030</td>\n",
       "      <td>0.055137</td>\n",
       "    </tr>\n",
       "    <tr>\n",
       "      <th>Haiti</th>\n",
       "      <td>0.840807</td>\n",
       "      <td>446</td>\n",
       "      <td>0.000021</td>\n",
       "      <td>0.032872</td>\n",
       "    </tr>\n",
       "    <tr>\n",
       "      <th>FL</th>\n",
       "      <td>0.000215</td>\n",
       "      <td>1458699</td>\n",
       "      <td>0.067326</td>\n",
       "      <td>0.027525</td>\n",
       "    </tr>\n",
       "    <tr>\n",
       "      <th>TX</th>\n",
       "      <td>0.000170</td>\n",
       "      <td>1793298</td>\n",
       "      <td>0.082770</td>\n",
       "      <td>0.026736</td>\n",
       "    </tr>\n",
       "    <tr>\n",
       "      <th>Mexico</th>\n",
       "      <td>0.005769</td>\n",
       "      <td>47152</td>\n",
       "      <td>0.002176</td>\n",
       "      <td>0.023843</td>\n",
       "    </tr>\n",
       "    <tr>\n",
       "      <th>Turkey</th>\n",
       "      <td>0.544492</td>\n",
       "      <td>472</td>\n",
       "      <td>0.000022</td>\n",
       "      <td>0.022528</td>\n",
       "    </tr>\n",
       "    <tr>\n",
       "      <th>NY</th>\n",
       "      <td>0.000166</td>\n",
       "      <td>1446864</td>\n",
       "      <td>0.066780</td>\n",
       "      <td>0.021038</td>\n",
       "    </tr>\n",
       "    <tr>\n",
       "      <th>NJ</th>\n",
       "      <td>0.000271</td>\n",
       "      <td>630317</td>\n",
       "      <td>0.029092</td>\n",
       "      <td>0.014989</td>\n",
       "    </tr>\n",
       "    <tr>\n",
       "      <th>MI</th>\n",
       "      <td>0.000259</td>\n",
       "      <td>618407</td>\n",
       "      <td>0.028543</td>\n",
       "      <td>0.014025</td>\n",
       "    </tr>\n",
       "    <tr>\n",
       "      <th>NC</th>\n",
       "      <td>0.000185</td>\n",
       "      <td>779234</td>\n",
       "      <td>0.035966</td>\n",
       "      <td>0.012623</td>\n",
       "    </tr>\n",
       "    <tr>\n",
       "      <th>PA</th>\n",
       "      <td>0.000172</td>\n",
       "      <td>839647</td>\n",
       "      <td>0.038754</td>\n",
       "      <td>0.012623</td>\n",
       "    </tr>\n",
       "    <tr>\n",
       "      <th>Nigeria</th>\n",
       "      <td>0.613734</td>\n",
       "      <td>233</td>\n",
       "      <td>0.000011</td>\n",
       "      <td>0.012535</td>\n",
       "    </tr>\n",
       "    <tr>\n",
       "      <th>IL</th>\n",
       "      <td>0.000134</td>\n",
       "      <td>850074</td>\n",
       "      <td>0.039235</td>\n",
       "      <td>0.009993</td>\n",
       "    </tr>\n",
       "    <tr>\n",
       "      <th>TN</th>\n",
       "      <td>0.000216</td>\n",
       "      <td>504116</td>\n",
       "      <td>0.023268</td>\n",
       "      <td>0.009555</td>\n",
       "    </tr>\n",
       "    <tr>\n",
       "      <th>WA</th>\n",
       "      <td>0.000199</td>\n",
       "      <td>537762</td>\n",
       "      <td>0.024820</td>\n",
       "      <td>0.009379</td>\n",
       "    </tr>\n",
       "    <tr>\n",
       "      <th>VA</th>\n",
       "      <td>0.000247</td>\n",
       "      <td>425216</td>\n",
       "      <td>0.019626</td>\n",
       "      <td>0.009204</td>\n",
       "    </tr>\n",
       "    <tr>\n",
       "      <th>IN</th>\n",
       "      <td>0.000171</td>\n",
       "      <td>613432</td>\n",
       "      <td>0.028313</td>\n",
       "      <td>0.009204</td>\n",
       "    </tr>\n",
       "  </tbody>\n",
       "</table>\n",
       "</div>"
      ],
      "text/plain": [
       "               Is Fraud?            percent     score\n",
       "                    mean    count                    \n",
       "Merchant State                                       \n",
       "Italy           0.536312     8730  0.000403  0.410414\n",
       "OH              0.000980   895970  0.041354  0.076964\n",
       "CA              0.000290  2591830  0.119626  0.065831\n",
       "Algeria         0.961774      654  0.000030  0.055137\n",
       "Haiti           0.840807      446  0.000021  0.032872\n",
       "FL              0.000215  1458699  0.067326  0.027525\n",
       "TX              0.000170  1793298  0.082770  0.026736\n",
       "Mexico          0.005769    47152  0.002176  0.023843\n",
       "Turkey          0.544492      472  0.000022  0.022528\n",
       "NY              0.000166  1446864  0.066780  0.021038\n",
       "NJ              0.000271   630317  0.029092  0.014989\n",
       "MI              0.000259   618407  0.028543  0.014025\n",
       "NC              0.000185   779234  0.035966  0.012623\n",
       "PA              0.000172   839647  0.038754  0.012623\n",
       "Nigeria         0.613734      233  0.000011  0.012535\n",
       "IL              0.000134   850074  0.039235  0.009993\n",
       "TN              0.000216   504116  0.023268  0.009555\n",
       "WA              0.000199   537762  0.024820  0.009379\n",
       "VA              0.000247   425216  0.019626  0.009204\n",
       "IN              0.000171   613432  0.028313  0.009204"
      ]
     },
     "execution_count": 142,
     "metadata": {},
     "output_type": "execute_result"
    }
   ],
   "source": [
    "states_fraud = transactions_df.loc[:, ['Merchant State', 'Is Fraud?']]. \\\n",
    "        groupby('Merchant State'). \\\n",
    "        aggregate(['mean', 'count'])\n",
    "\n",
    "states_fraud['percent'] = states_fraud['Is Fraud?']['count'] / states_fraud['Is Fraud?']['count'].sum()\n",
    "states_fraud['score'] = states_fraud['Is Fraud?']['mean'] * states_fraud['percent']\n",
    "states_fraud['score'] = states_fraud['score'] / states_fraud['score'].sum()\n",
    "states_fraud.sort_values(by='score', ascending=False, inplace=True)\n",
    "print('\\nCummulative score: {:.2f}'.format(states_fraud[:20][\"score\"].sum()))\n",
    "states_fraud[:20]"
   ]
  },
  {
   "cell_type": "markdown",
   "id": "a01b769a",
   "metadata": {},
   "source": [
    "For the states, it is of interest to identify the ones in which fraud is an issue, either because there is a high percent of fraudulent cases on that state, or because there is a high number of transactions in that state. To take both factors into consideration, we'll calculate a score as:\n",
    "\n",
    "$score = percent(fraudulentCases) * percent(totalCases)$\n",
    "\n",
    "Then we normalize the score column, and sort by it to identify the states with most fraudulent issues.\n",
    "We present the top 20 states, which make up around 88% of the total score.\n",
    "We can see three kind of states:\n",
    "- States with high percent of fraudulent cases: like Italy (54%), Algeria (96%), Turkey (54%), Nigeria (61%)...\n",
    "- States with high percent of total cases: like CA (12%), FL (7%), TX (8%), NY (7%)...\n",
    "- States with low percent of fraudulent cases but high percent of total cases (high score): like OH (8% score), Mexico (2%), IL (1%)..."
   ]
  },
  {
   "cell_type": "code",
   "execution_count": 91,
   "id": "5e58e2c6",
   "metadata": {},
   "outputs": [
    {
     "data": {
      "text/html": [
       "<div>\n",
       "<style scoped>\n",
       "    .dataframe tbody tr th:only-of-type {\n",
       "        vertical-align: middle;\n",
       "    }\n",
       "\n",
       "    .dataframe tbody tr th {\n",
       "        vertical-align: top;\n",
       "    }\n",
       "\n",
       "    .dataframe thead th {\n",
       "        text-align: right;\n",
       "    }\n",
       "</style>\n",
       "<table border=\"1\" class=\"dataframe\">\n",
       "  <thead>\n",
       "    <tr style=\"text-align: right;\">\n",
       "      <th></th>\n",
       "      <th>mcc</th>\n",
       "      <th>edited_description</th>\n",
       "      <th>combined_description</th>\n",
       "      <th>usda_description</th>\n",
       "      <th>irs_description</th>\n",
       "      <th>irs_reportable</th>\n",
       "    </tr>\n",
       "  </thead>\n",
       "  <tbody>\n",
       "    <tr>\n",
       "      <th>0</th>\n",
       "      <td>742</td>\n",
       "      <td>Veterinary Services</td>\n",
       "      <td>Veterinary Services</td>\n",
       "      <td>Veterinary Services</td>\n",
       "      <td>Veterinary Services</td>\n",
       "      <td>Yes</td>\n",
       "    </tr>\n",
       "    <tr>\n",
       "      <th>1</th>\n",
       "      <td>763</td>\n",
       "      <td>Agricultural Co-operatives</td>\n",
       "      <td>Agricultural Co-operatives</td>\n",
       "      <td>Agricultural Co-operatives</td>\n",
       "      <td>Agricultural Cooperative</td>\n",
       "      <td>Yes</td>\n",
       "    </tr>\n",
       "    <tr>\n",
       "      <th>2</th>\n",
       "      <td>780</td>\n",
       "      <td>Horticultural Services, Landscaping Services</td>\n",
       "      <td>Horticultural Services, Landscaping Services</td>\n",
       "      <td>Horticultural Services</td>\n",
       "      <td>Landscaping Services</td>\n",
       "      <td>Yes</td>\n",
       "    </tr>\n",
       "    <tr>\n",
       "      <th>3</th>\n",
       "      <td>1520</td>\n",
       "      <td>General Contractors-Residential and Commercial</td>\n",
       "      <td>General Contractors-Residential and Commercial</td>\n",
       "      <td>General Contractors-Residential and Commercial</td>\n",
       "      <td>General Contractors</td>\n",
       "      <td>Yes</td>\n",
       "    </tr>\n",
       "    <tr>\n",
       "      <th>4</th>\n",
       "      <td>1711</td>\n",
       "      <td>Air Conditioning Contractors – Sales and Insta...</td>\n",
       "      <td>Air Conditioning Contractors – Sales and Insta...</td>\n",
       "      <td>Air Conditioning Contractors – Sales and Insta...</td>\n",
       "      <td>Heating, Plumbing, A/C</td>\n",
       "      <td>Yes</td>\n",
       "    </tr>\n",
       "  </tbody>\n",
       "</table>\n",
       "</div>"
      ],
      "text/plain": [
       "    mcc                                 edited_description  \\\n",
       "0   742                                Veterinary Services   \n",
       "1   763                         Agricultural Co-operatives   \n",
       "2   780       Horticultural Services, Landscaping Services   \n",
       "3  1520     General Contractors-Residential and Commercial   \n",
       "4  1711  Air Conditioning Contractors – Sales and Insta...   \n",
       "\n",
       "                                combined_description  \\\n",
       "0                                Veterinary Services   \n",
       "1                         Agricultural Co-operatives   \n",
       "2       Horticultural Services, Landscaping Services   \n",
       "3     General Contractors-Residential and Commercial   \n",
       "4  Air Conditioning Contractors – Sales and Insta...   \n",
       "\n",
       "                                    usda_description  \\\n",
       "0                                Veterinary Services   \n",
       "1                         Agricultural Co-operatives   \n",
       "2                             Horticultural Services   \n",
       "3     General Contractors-Residential and Commercial   \n",
       "4  Air Conditioning Contractors – Sales and Insta...   \n",
       "\n",
       "            irs_description irs_reportable  \n",
       "0       Veterinary Services            Yes  \n",
       "1  Agricultural Cooperative            Yes  \n",
       "2      Landscaping Services            Yes  \n",
       "3       General Contractors            Yes  \n",
       "4    Heating, Plumbing, A/C            Yes  "
      ]
     },
     "execution_count": 91,
     "metadata": {},
     "output_type": "execute_result"
    }
   ],
   "source": [
    "mcc_codes_df = pd.read_csv('mcc_codes.csv')\n",
    "mcc_codes_df.head()"
   ]
  },
  {
   "cell_type": "code",
   "execution_count": 78,
   "id": "29ccceec",
   "metadata": {},
   "outputs": [
    {
     "name": "stdout",
     "output_type": "stream",
     "text": [
      "<class 'pandas.core.frame.DataFrame'>\n",
      "RangeIndex: 981 entries, 0 to 980\n",
      "Data columns (total 6 columns):\n",
      " #   Column                Non-Null Count  Dtype \n",
      "---  ------                --------------  ----- \n",
      " 0   mcc                   981 non-null    int64 \n",
      " 1   edited_description    981 non-null    object\n",
      " 2   combined_description  973 non-null    object\n",
      " 3   usda_description      706 non-null    object\n",
      " 4   irs_description       963 non-null    object\n",
      " 5   irs_reportable        963 non-null    object\n",
      "dtypes: int64(1), object(5)\n",
      "memory usage: 46.1+ KB\n"
     ]
    }
   ],
   "source": [
    "mcc_codes_df.info()"
   ]
  },
  {
   "cell_type": "code",
   "execution_count": 33,
   "id": "b66c20e6",
   "metadata": {},
   "outputs": [],
   "source": [
    "top_40_mccs = mcc_percents.index[:40]\n",
    "def label_mcc(mcc):\n",
    "    if mcc in top_40_mccs:\n",
    "        return mcc\n",
    "    return 'Other'\n",
    "\n",
    "transactions_df['mcc_group'] = transactions_df.loc[:, 'MCC'].apply(label_mcc)"
   ]
  },
  {
   "cell_type": "code",
   "execution_count": 144,
   "id": "21873789",
   "metadata": {},
   "outputs": [
    {
     "name": "stdout",
     "output_type": "stream",
     "text": [
      "\n",
      "Cummulative score: 0.95\n"
     ]
    },
    {
     "name": "stderr",
     "output_type": "stream",
     "text": [
      "C:\\Users\\romdel\\.conda\\envs\\frank\\lib\\site-packages\\pandas\\core\\reshape\\merge.py:648: UserWarning: merging between different levels can give an unintended result (2 levels on the left,1 on the right)\n",
      "  warnings.warn(msg, UserWarning)\n"
     ]
    },
    {
     "data": {
      "text/html": [
       "<div>\n",
       "<style scoped>\n",
       "    .dataframe tbody tr th:only-of-type {\n",
       "        vertical-align: middle;\n",
       "    }\n",
       "\n",
       "    .dataframe tbody tr th {\n",
       "        vertical-align: top;\n",
       "    }\n",
       "\n",
       "    .dataframe thead th {\n",
       "        text-align: right;\n",
       "    }\n",
       "</style>\n",
       "<table border=\"1\" class=\"dataframe\">\n",
       "  <thead>\n",
       "    <tr style=\"text-align: right;\">\n",
       "      <th></th>\n",
       "      <th>(Is Fraud?, mean)</th>\n",
       "      <th>(Is Fraud?, count)</th>\n",
       "      <th>(mcc, )</th>\n",
       "      <th>(percent, )</th>\n",
       "      <th>(score, )</th>\n",
       "      <th>edited_description</th>\n",
       "    </tr>\n",
       "  </thead>\n",
       "  <tbody>\n",
       "    <tr>\n",
       "      <th>0</th>\n",
       "      <td>0.005446</td>\n",
       "      <td>885720</td>\n",
       "      <td>5311</td>\n",
       "      <td>0.036319</td>\n",
       "      <td>0.162113</td>\n",
       "      <td>Department Stores</td>\n",
       "    </tr>\n",
       "    <tr>\n",
       "      <th>1</th>\n",
       "      <td>0.001960</td>\n",
       "      <td>1123037</td>\n",
       "      <td>5300</td>\n",
       "      <td>0.046051</td>\n",
       "      <td>0.073966</td>\n",
       "      <td>Wholesale Clubs</td>\n",
       "    </tr>\n",
       "    <tr>\n",
       "      <th>2</th>\n",
       "      <td>0.004739</td>\n",
       "      <td>454107</td>\n",
       "      <td>5310</td>\n",
       "      <td>0.018621</td>\n",
       "      <td>0.072319</td>\n",
       "      <td>Discount Stores</td>\n",
       "    </tr>\n",
       "    <tr>\n",
       "      <th>3</th>\n",
       "      <td>0.001423</td>\n",
       "      <td>1129061</td>\n",
       "      <td>4829</td>\n",
       "      <td>0.046298</td>\n",
       "      <td>0.054004</td>\n",
       "      <td>Money Orders – Wire Transfer</td>\n",
       "    </tr>\n",
       "    <tr>\n",
       "      <th>4</th>\n",
       "      <td>0.000751</td>\n",
       "      <td>1407636</td>\n",
       "      <td>5912</td>\n",
       "      <td>0.057721</td>\n",
       "      <td>0.035521</td>\n",
       "      <td>Drug Stores and Pharmacies</td>\n",
       "    </tr>\n",
       "    <tr>\n",
       "      <th>5</th>\n",
       "      <td>0.000330</td>\n",
       "      <td>2860738</td>\n",
       "      <td>5411</td>\n",
       "      <td>0.117306</td>\n",
       "      <td>0.031690</td>\n",
       "      <td>Grocery Stores, Supermarkets</td>\n",
       "    </tr>\n",
       "    <tr>\n",
       "      <th>6</th>\n",
       "      <td>0.007627</td>\n",
       "      <td>115247</td>\n",
       "      <td>5815</td>\n",
       "      <td>0.004726</td>\n",
       "      <td>0.029539</td>\n",
       "      <td>Digital Goods: Media, Books, Movies, Music</td>\n",
       "    </tr>\n",
       "    <tr>\n",
       "      <th>7</th>\n",
       "      <td>0.006175</td>\n",
       "      <td>137489</td>\n",
       "      <td>5651</td>\n",
       "      <td>0.005638</td>\n",
       "      <td>0.028531</td>\n",
       "      <td>Family Clothing Stores</td>\n",
       "    </tr>\n",
       "    <tr>\n",
       "      <th>8</th>\n",
       "      <td>0.066942</td>\n",
       "      <td>12593</td>\n",
       "      <td>5732</td>\n",
       "      <td>0.000516</td>\n",
       "      <td>0.028329</td>\n",
       "      <td>Electronic Sales</td>\n",
       "    </tr>\n",
       "    <tr>\n",
       "      <th>9</th>\n",
       "      <td>0.004474</td>\n",
       "      <td>160277</td>\n",
       "      <td>5719</td>\n",
       "      <td>0.006572</td>\n",
       "      <td>0.024095</td>\n",
       "      <td>Miscellaneous Home Furnishing Specialty Stores</td>\n",
       "    </tr>\n",
       "    <tr>\n",
       "      <th>10</th>\n",
       "      <td>0.060038</td>\n",
       "      <td>9444</td>\n",
       "      <td>5094</td>\n",
       "      <td>0.000387</td>\n",
       "      <td>0.019054</td>\n",
       "      <td>Precious Stones and Metals, Watches and Jewelry</td>\n",
       "    </tr>\n",
       "    <tr>\n",
       "      <th>11</th>\n",
       "      <td>0.000569</td>\n",
       "      <td>981523</td>\n",
       "      <td>4121</td>\n",
       "      <td>0.040248</td>\n",
       "      <td>0.018752</td>\n",
       "      <td>Taxicabs and Limousines</td>\n",
       "    </tr>\n",
       "    <tr>\n",
       "      <th>12</th>\n",
       "      <td>0.001469</td>\n",
       "      <td>323456</td>\n",
       "      <td>5211</td>\n",
       "      <td>0.013264</td>\n",
       "      <td>0.015963</td>\n",
       "      <td>Lumber and Building Materials Stores</td>\n",
       "    </tr>\n",
       "    <tr>\n",
       "      <th>13</th>\n",
       "      <td>0.093756</td>\n",
       "      <td>5013</td>\n",
       "      <td>5045</td>\n",
       "      <td>0.000206</td>\n",
       "      <td>0.015795</td>\n",
       "      <td>Computers, Computer Peripheral Equipment, Soft...</td>\n",
       "    </tr>\n",
       "    <tr>\n",
       "      <th>14</th>\n",
       "      <td>0.000518</td>\n",
       "      <td>900255</td>\n",
       "      <td>5814</td>\n",
       "      <td>0.036916</td>\n",
       "      <td>0.015660</td>\n",
       "      <td>Fast Food Restaurants</td>\n",
       "    </tr>\n",
       "    <tr>\n",
       "      <th>15</th>\n",
       "      <td>0.058470</td>\n",
       "      <td>7149</td>\n",
       "      <td>5712</td>\n",
       "      <td>0.000293</td>\n",
       "      <td>0.014047</td>\n",
       "      <td>Furniture, Home Furnishings, and Equipment Sto...</td>\n",
       "    </tr>\n",
       "    <tr>\n",
       "      <th>16</th>\n",
       "      <td>0.006933</td>\n",
       "      <td>58562</td>\n",
       "      <td>4722</td>\n",
       "      <td>0.002401</td>\n",
       "      <td>0.013644</td>\n",
       "      <td>Travel Agencies and Tour Operations</td>\n",
       "    </tr>\n",
       "    <tr>\n",
       "      <th>17</th>\n",
       "      <td>0.000984</td>\n",
       "      <td>407465</td>\n",
       "      <td>4814</td>\n",
       "      <td>0.016708</td>\n",
       "      <td>0.013476</td>\n",
       "      <td>Fax services, Telecommunication Services</td>\n",
       "    </tr>\n",
       "    <tr>\n",
       "      <th>18</th>\n",
       "      <td>0.000134</td>\n",
       "      <td>2638982</td>\n",
       "      <td>5541</td>\n",
       "      <td>0.108213</td>\n",
       "      <td>0.011896</td>\n",
       "      <td>Service Stations ( with or without ancillary s...</td>\n",
       "    </tr>\n",
       "    <tr>\n",
       "      <th>19</th>\n",
       "      <td>0.004587</td>\n",
       "      <td>71501</td>\n",
       "      <td>7922</td>\n",
       "      <td>0.002932</td>\n",
       "      <td>0.011023</td>\n",
       "      <td>Theatrical Producers (Except Motion Pictures),...</td>\n",
       "    </tr>\n",
       "    <tr>\n",
       "      <th>20</th>\n",
       "      <td>0.000182</td>\n",
       "      <td>1797920</td>\n",
       "      <td>5812</td>\n",
       "      <td>0.073725</td>\n",
       "      <td>0.010989</td>\n",
       "      <td>Eating places and Restaurants</td>\n",
       "    </tr>\n",
       "  </tbody>\n",
       "</table>\n",
       "</div>"
      ],
      "text/plain": [
       "    (Is Fraud?, mean)  (Is Fraud?, count)  (mcc, )  (percent, )  (score, )  \\\n",
       "0            0.005446              885720     5311     0.036319   0.162113   \n",
       "1            0.001960             1123037     5300     0.046051   0.073966   \n",
       "2            0.004739              454107     5310     0.018621   0.072319   \n",
       "3            0.001423             1129061     4829     0.046298   0.054004   \n",
       "4            0.000751             1407636     5912     0.057721   0.035521   \n",
       "5            0.000330             2860738     5411     0.117306   0.031690   \n",
       "6            0.007627              115247     5815     0.004726   0.029539   \n",
       "7            0.006175              137489     5651     0.005638   0.028531   \n",
       "8            0.066942               12593     5732     0.000516   0.028329   \n",
       "9            0.004474              160277     5719     0.006572   0.024095   \n",
       "10           0.060038                9444     5094     0.000387   0.019054   \n",
       "11           0.000569              981523     4121     0.040248   0.018752   \n",
       "12           0.001469              323456     5211     0.013264   0.015963   \n",
       "13           0.093756                5013     5045     0.000206   0.015795   \n",
       "14           0.000518              900255     5814     0.036916   0.015660   \n",
       "15           0.058470                7149     5712     0.000293   0.014047   \n",
       "16           0.006933               58562     4722     0.002401   0.013644   \n",
       "17           0.000984              407465     4814     0.016708   0.013476   \n",
       "18           0.000134             2638982     5541     0.108213   0.011896   \n",
       "19           0.004587               71501     7922     0.002932   0.011023   \n",
       "20           0.000182             1797920     5812     0.073725   0.010989   \n",
       "\n",
       "                                   edited_description  \n",
       "0                                   Department Stores  \n",
       "1                                     Wholesale Clubs  \n",
       "2                                     Discount Stores  \n",
       "3                        Money Orders – Wire Transfer  \n",
       "4                          Drug Stores and Pharmacies  \n",
       "5                        Grocery Stores, Supermarkets  \n",
       "6          Digital Goods: Media, Books, Movies, Music  \n",
       "7                              Family Clothing Stores  \n",
       "8                                    Electronic Sales  \n",
       "9      Miscellaneous Home Furnishing Specialty Stores  \n",
       "10    Precious Stones and Metals, Watches and Jewelry  \n",
       "11                            Taxicabs and Limousines  \n",
       "12               Lumber and Building Materials Stores  \n",
       "13  Computers, Computer Peripheral Equipment, Soft...  \n",
       "14                              Fast Food Restaurants  \n",
       "15  Furniture, Home Furnishings, and Equipment Sto...  \n",
       "16                Travel Agencies and Tour Operations  \n",
       "17           Fax services, Telecommunication Services  \n",
       "18  Service Stations ( with or without ancillary s...  \n",
       "19  Theatrical Producers (Except Motion Pictures),...  \n",
       "20                      Eating places and Restaurants  "
      ]
     },
     "execution_count": 144,
     "metadata": {},
     "output_type": "execute_result"
    }
   ],
   "source": [
    "mccs_fraud = transactions_df.loc[:, ['MCC', 'Is Fraud?']]. \\\n",
    "        groupby('MCC'). \\\n",
    "        aggregate(['mean', 'count'])\n",
    "mccs_fraud['mcc'] = mccs_fraud.index\n",
    "mccs_fraud.index = list(range(mccs_fraud.shape[0]))\n",
    "\n",
    "mccs_fraud['percent'] = mccs_fraud['Is Fraud?']['count'] / mccs_fraud['Is Fraud?']['count'].sum()\n",
    "mccs_fraud['score'] = mccs_fraud['Is Fraud?']['mean'] * mccs_fraud['percent']\n",
    "mccs_fraud['score'] = mccs_fraud['score'] / mccs_fraud['score'].sum()\n",
    "mccs_fraud.sort_values(by='score', ascending=False, inplace=True)\n",
    "top_20_score = mccs_fraud.loc[:20, ('score', '')].sum()\n",
    "mcc_descriptions = mcc_codes_df.loc[:, ['mcc', 'edited_description']]\n",
    "mccs_fraud = pd.merge(mccs_fraud, mcc_descriptions, on='mcc')\n",
    "mccs_fraud.drop('mcc', 1, inplace=True)\n",
    "print(\"\\nCummulative score: {:.2f}\".format(top_20_score))\n",
    "mccs_fraud.loc[:20, ]"
   ]
  },
  {
   "cell_type": "markdown",
   "id": "846f8983",
   "metadata": {},
   "source": [
    "For the MCCs, like we did with the states, it is of interest to identify the ones in which fraud is an issue.\n",
    "\n",
    "We present the top 20 MCCs, which make up around 95% of the total score.\n",
    "We can see three kind of MCCs:\n",
    "- MCCs with high percent of fraudulent cases: like Computers, Computer Peripheral Equipment, Soft... (10%); Electronic Sales (7%), Precious Stones and Metals; Furniture, Home Furnishings, and Equipment Sto... (6%); Watches and Jewelry (6%)...\n",
    "- MCCs with high percent of total cases: like Grocery Stores, Supermarkets (12%), Service Stations (11%), Eating places and Restaurants (7%), Wholesale Clubs (7%)...\n",
    "- MCCs with low percent of fraudulent cases but high percent of total cases (high score): like Discount Stores (2% score), Drug Discount Stores (1% score), Digital Goods: Media, Books, Movies, Music (1%)..."
   ]
  },
  {
   "cell_type": "markdown",
   "id": "1cb002ec",
   "metadata": {},
   "source": [
    "## Set of features from transactions_df\n",
    "Now we are ready to select the potential features from the *transactions_df*."
   ]
  },
  {
   "cell_type": "code",
   "execution_count": 34,
   "id": "154224b5",
   "metadata": {},
   "outputs": [],
   "source": [
    "features_set = transactions_df.loc[:, ['Use Chip', 'errors_group', 'Amount', 'hour', 'Month', 'Day',\n",
    "                                      'merchant_state_group', 'mcc_group']]"
   ]
  },
  {
   "cell_type": "code",
   "execution_count": 35,
   "id": "5ba81272",
   "metadata": {},
   "outputs": [
    {
     "data": {
      "text/html": [
       "<div>\n",
       "<style scoped>\n",
       "    .dataframe tbody tr th:only-of-type {\n",
       "        vertical-align: middle;\n",
       "    }\n",
       "\n",
       "    .dataframe tbody tr th {\n",
       "        vertical-align: top;\n",
       "    }\n",
       "\n",
       "    .dataframe thead th {\n",
       "        text-align: right;\n",
       "    }\n",
       "</style>\n",
       "<table border=\"1\" class=\"dataframe\">\n",
       "  <thead>\n",
       "    <tr style=\"text-align: right;\">\n",
       "      <th></th>\n",
       "      <th>Use Chip</th>\n",
       "      <th>errors_group</th>\n",
       "      <th>Amount</th>\n",
       "      <th>hour</th>\n",
       "      <th>Month</th>\n",
       "      <th>Day</th>\n",
       "      <th>merchant_state_group</th>\n",
       "      <th>mcc_group</th>\n",
       "    </tr>\n",
       "  </thead>\n",
       "  <tbody>\n",
       "    <tr>\n",
       "      <th>0</th>\n",
       "      <td>Swipe Transaction</td>\n",
       "      <td>No Error</td>\n",
       "      <td>134.09</td>\n",
       "      <td>6</td>\n",
       "      <td>9</td>\n",
       "      <td>1</td>\n",
       "      <td>CA</td>\n",
       "      <td>5300</td>\n",
       "    </tr>\n",
       "    <tr>\n",
       "      <th>1</th>\n",
       "      <td>Swipe Transaction</td>\n",
       "      <td>No Error</td>\n",
       "      <td>38.48</td>\n",
       "      <td>6</td>\n",
       "      <td>9</td>\n",
       "      <td>1</td>\n",
       "      <td>CA</td>\n",
       "      <td>5411</td>\n",
       "    </tr>\n",
       "    <tr>\n",
       "      <th>2</th>\n",
       "      <td>Swipe Transaction</td>\n",
       "      <td>No Error</td>\n",
       "      <td>120.34</td>\n",
       "      <td>6</td>\n",
       "      <td>9</td>\n",
       "      <td>2</td>\n",
       "      <td>CA</td>\n",
       "      <td>5411</td>\n",
       "    </tr>\n",
       "    <tr>\n",
       "      <th>3</th>\n",
       "      <td>Swipe Transaction</td>\n",
       "      <td>No Error</td>\n",
       "      <td>128.95</td>\n",
       "      <td>17</td>\n",
       "      <td>9</td>\n",
       "      <td>2</td>\n",
       "      <td>CA</td>\n",
       "      <td>5651</td>\n",
       "    </tr>\n",
       "    <tr>\n",
       "      <th>4</th>\n",
       "      <td>Swipe Transaction</td>\n",
       "      <td>No Error</td>\n",
       "      <td>104.71</td>\n",
       "      <td>6</td>\n",
       "      <td>9</td>\n",
       "      <td>3</td>\n",
       "      <td>CA</td>\n",
       "      <td>5912</td>\n",
       "    </tr>\n",
       "    <tr>\n",
       "      <th>...</th>\n",
       "      <td>...</td>\n",
       "      <td>...</td>\n",
       "      <td>...</td>\n",
       "      <td>...</td>\n",
       "      <td>...</td>\n",
       "      <td>...</td>\n",
       "      <td>...</td>\n",
       "      <td>...</td>\n",
       "    </tr>\n",
       "    <tr>\n",
       "      <th>24386895</th>\n",
       "      <td>Chip Transaction</td>\n",
       "      <td>No Error</td>\n",
       "      <td>-54.00</td>\n",
       "      <td>22</td>\n",
       "      <td>2</td>\n",
       "      <td>27</td>\n",
       "      <td>NH</td>\n",
       "      <td>5541</td>\n",
       "    </tr>\n",
       "    <tr>\n",
       "      <th>24386896</th>\n",
       "      <td>Chip Transaction</td>\n",
       "      <td>No Error</td>\n",
       "      <td>54.00</td>\n",
       "      <td>22</td>\n",
       "      <td>2</td>\n",
       "      <td>27</td>\n",
       "      <td>NH</td>\n",
       "      <td>5541</td>\n",
       "    </tr>\n",
       "    <tr>\n",
       "      <th>24386897</th>\n",
       "      <td>Chip Transaction</td>\n",
       "      <td>No Error</td>\n",
       "      <td>59.15</td>\n",
       "      <td>7</td>\n",
       "      <td>2</td>\n",
       "      <td>28</td>\n",
       "      <td>NH</td>\n",
       "      <td>4121</td>\n",
       "    </tr>\n",
       "    <tr>\n",
       "      <th>24386898</th>\n",
       "      <td>Chip Transaction</td>\n",
       "      <td>No Error</td>\n",
       "      <td>43.12</td>\n",
       "      <td>20</td>\n",
       "      <td>2</td>\n",
       "      <td>28</td>\n",
       "      <td>NH</td>\n",
       "      <td>4121</td>\n",
       "    </tr>\n",
       "    <tr>\n",
       "      <th>24386899</th>\n",
       "      <td>Chip Transaction</td>\n",
       "      <td>No Error</td>\n",
       "      <td>45.13</td>\n",
       "      <td>23</td>\n",
       "      <td>2</td>\n",
       "      <td>28</td>\n",
       "      <td>NH</td>\n",
       "      <td>5814</td>\n",
       "    </tr>\n",
       "  </tbody>\n",
       "</table>\n",
       "<p>24386900 rows × 8 columns</p>\n",
       "</div>"
      ],
      "text/plain": [
       "                   Use Chip errors_group  Amount  hour  Month  Day  \\\n",
       "0         Swipe Transaction     No Error  134.09     6      9    1   \n",
       "1         Swipe Transaction     No Error   38.48     6      9    1   \n",
       "2         Swipe Transaction     No Error  120.34     6      9    2   \n",
       "3         Swipe Transaction     No Error  128.95    17      9    2   \n",
       "4         Swipe Transaction     No Error  104.71     6      9    3   \n",
       "...                     ...          ...     ...   ...    ...  ...   \n",
       "24386895   Chip Transaction     No Error  -54.00    22      2   27   \n",
       "24386896   Chip Transaction     No Error   54.00    22      2   27   \n",
       "24386897   Chip Transaction     No Error   59.15     7      2   28   \n",
       "24386898   Chip Transaction     No Error   43.12    20      2   28   \n",
       "24386899   Chip Transaction     No Error   45.13    23      2   28   \n",
       "\n",
       "         merchant_state_group mcc_group  \n",
       "0                          CA      5300  \n",
       "1                          CA      5411  \n",
       "2                          CA      5411  \n",
       "3                          CA      5651  \n",
       "4                          CA      5912  \n",
       "...                       ...       ...  \n",
       "24386895                   NH      5541  \n",
       "24386896                   NH      5541  \n",
       "24386897                   NH      4121  \n",
       "24386898                   NH      4121  \n",
       "24386899                   NH      5814  \n",
       "\n",
       "[24386900 rows x 8 columns]"
      ]
     },
     "execution_count": 35,
     "metadata": {},
     "output_type": "execute_result"
    }
   ],
   "source": [
    "features_set"
   ]
  },
  {
   "cell_type": "markdown",
   "id": "cce5604d",
   "metadata": {},
   "source": [
    "First we'll get the dummy variables for the categorical features.\n",
    "There are no missing values, as we handled them on the feature engineering process."
   ]
  },
  {
   "cell_type": "code",
   "execution_count": 36,
   "id": "43959332",
   "metadata": {},
   "outputs": [
    {
     "data": {
      "text/html": [
       "<div>\n",
       "<style scoped>\n",
       "    .dataframe tbody tr th:only-of-type {\n",
       "        vertical-align: middle;\n",
       "    }\n",
       "\n",
       "    .dataframe tbody tr th {\n",
       "        vertical-align: top;\n",
       "    }\n",
       "\n",
       "    .dataframe thead th {\n",
       "        text-align: right;\n",
       "    }\n",
       "</style>\n",
       "<table border=\"1\" class=\"dataframe\">\n",
       "  <thead>\n",
       "    <tr style=\"text-align: right;\">\n",
       "      <th></th>\n",
       "      <th>Amount</th>\n",
       "      <th>hour</th>\n",
       "      <th>Month</th>\n",
       "      <th>Day</th>\n",
       "      <th>Use Chip_Chip Transaction</th>\n",
       "      <th>Use Chip_Online Transaction</th>\n",
       "      <th>Use Chip_Swipe Transaction</th>\n",
       "      <th>errors_group_Bad CVV</th>\n",
       "      <th>errors_group_Bad Card Number</th>\n",
       "      <th>errors_group_Bad Expiration</th>\n",
       "      <th>...</th>\n",
       "      <th>mcc_group_7538</th>\n",
       "      <th>mcc_group_7542</th>\n",
       "      <th>mcc_group_7801</th>\n",
       "      <th>mcc_group_7832</th>\n",
       "      <th>mcc_group_7922</th>\n",
       "      <th>mcc_group_7995</th>\n",
       "      <th>mcc_group_8011</th>\n",
       "      <th>mcc_group_8021</th>\n",
       "      <th>mcc_group_9402</th>\n",
       "      <th>mcc_group_Other</th>\n",
       "    </tr>\n",
       "  </thead>\n",
       "  <tbody>\n",
       "    <tr>\n",
       "      <th>0</th>\n",
       "      <td>134.09</td>\n",
       "      <td>6</td>\n",
       "      <td>9</td>\n",
       "      <td>1</td>\n",
       "      <td>0</td>\n",
       "      <td>0</td>\n",
       "      <td>1</td>\n",
       "      <td>0</td>\n",
       "      <td>0</td>\n",
       "      <td>0</td>\n",
       "      <td>...</td>\n",
       "      <td>0</td>\n",
       "      <td>0</td>\n",
       "      <td>0</td>\n",
       "      <td>0</td>\n",
       "      <td>0</td>\n",
       "      <td>0</td>\n",
       "      <td>0</td>\n",
       "      <td>0</td>\n",
       "      <td>0</td>\n",
       "      <td>0</td>\n",
       "    </tr>\n",
       "    <tr>\n",
       "      <th>1</th>\n",
       "      <td>38.48</td>\n",
       "      <td>6</td>\n",
       "      <td>9</td>\n",
       "      <td>1</td>\n",
       "      <td>0</td>\n",
       "      <td>0</td>\n",
       "      <td>1</td>\n",
       "      <td>0</td>\n",
       "      <td>0</td>\n",
       "      <td>0</td>\n",
       "      <td>...</td>\n",
       "      <td>0</td>\n",
       "      <td>0</td>\n",
       "      <td>0</td>\n",
       "      <td>0</td>\n",
       "      <td>0</td>\n",
       "      <td>0</td>\n",
       "      <td>0</td>\n",
       "      <td>0</td>\n",
       "      <td>0</td>\n",
       "      <td>0</td>\n",
       "    </tr>\n",
       "    <tr>\n",
       "      <th>2</th>\n",
       "      <td>120.34</td>\n",
       "      <td>6</td>\n",
       "      <td>9</td>\n",
       "      <td>2</td>\n",
       "      <td>0</td>\n",
       "      <td>0</td>\n",
       "      <td>1</td>\n",
       "      <td>0</td>\n",
       "      <td>0</td>\n",
       "      <td>0</td>\n",
       "      <td>...</td>\n",
       "      <td>0</td>\n",
       "      <td>0</td>\n",
       "      <td>0</td>\n",
       "      <td>0</td>\n",
       "      <td>0</td>\n",
       "      <td>0</td>\n",
       "      <td>0</td>\n",
       "      <td>0</td>\n",
       "      <td>0</td>\n",
       "      <td>0</td>\n",
       "    </tr>\n",
       "    <tr>\n",
       "      <th>3</th>\n",
       "      <td>128.95</td>\n",
       "      <td>17</td>\n",
       "      <td>9</td>\n",
       "      <td>2</td>\n",
       "      <td>0</td>\n",
       "      <td>0</td>\n",
       "      <td>1</td>\n",
       "      <td>0</td>\n",
       "      <td>0</td>\n",
       "      <td>0</td>\n",
       "      <td>...</td>\n",
       "      <td>0</td>\n",
       "      <td>0</td>\n",
       "      <td>0</td>\n",
       "      <td>0</td>\n",
       "      <td>0</td>\n",
       "      <td>0</td>\n",
       "      <td>0</td>\n",
       "      <td>0</td>\n",
       "      <td>0</td>\n",
       "      <td>0</td>\n",
       "    </tr>\n",
       "    <tr>\n",
       "      <th>4</th>\n",
       "      <td>104.71</td>\n",
       "      <td>6</td>\n",
       "      <td>9</td>\n",
       "      <td>3</td>\n",
       "      <td>0</td>\n",
       "      <td>0</td>\n",
       "      <td>1</td>\n",
       "      <td>0</td>\n",
       "      <td>0</td>\n",
       "      <td>0</td>\n",
       "      <td>...</td>\n",
       "      <td>0</td>\n",
       "      <td>0</td>\n",
       "      <td>0</td>\n",
       "      <td>0</td>\n",
       "      <td>0</td>\n",
       "      <td>0</td>\n",
       "      <td>0</td>\n",
       "      <td>0</td>\n",
       "      <td>0</td>\n",
       "      <td>0</td>\n",
       "    </tr>\n",
       "    <tr>\n",
       "      <th>...</th>\n",
       "      <td>...</td>\n",
       "      <td>...</td>\n",
       "      <td>...</td>\n",
       "      <td>...</td>\n",
       "      <td>...</td>\n",
       "      <td>...</td>\n",
       "      <td>...</td>\n",
       "      <td>...</td>\n",
       "      <td>...</td>\n",
       "      <td>...</td>\n",
       "      <td>...</td>\n",
       "      <td>...</td>\n",
       "      <td>...</td>\n",
       "      <td>...</td>\n",
       "      <td>...</td>\n",
       "      <td>...</td>\n",
       "      <td>...</td>\n",
       "      <td>...</td>\n",
       "      <td>...</td>\n",
       "      <td>...</td>\n",
       "      <td>...</td>\n",
       "    </tr>\n",
       "    <tr>\n",
       "      <th>24386895</th>\n",
       "      <td>-54.00</td>\n",
       "      <td>22</td>\n",
       "      <td>2</td>\n",
       "      <td>27</td>\n",
       "      <td>1</td>\n",
       "      <td>0</td>\n",
       "      <td>0</td>\n",
       "      <td>0</td>\n",
       "      <td>0</td>\n",
       "      <td>0</td>\n",
       "      <td>...</td>\n",
       "      <td>0</td>\n",
       "      <td>0</td>\n",
       "      <td>0</td>\n",
       "      <td>0</td>\n",
       "      <td>0</td>\n",
       "      <td>0</td>\n",
       "      <td>0</td>\n",
       "      <td>0</td>\n",
       "      <td>0</td>\n",
       "      <td>0</td>\n",
       "    </tr>\n",
       "    <tr>\n",
       "      <th>24386896</th>\n",
       "      <td>54.00</td>\n",
       "      <td>22</td>\n",
       "      <td>2</td>\n",
       "      <td>27</td>\n",
       "      <td>1</td>\n",
       "      <td>0</td>\n",
       "      <td>0</td>\n",
       "      <td>0</td>\n",
       "      <td>0</td>\n",
       "      <td>0</td>\n",
       "      <td>...</td>\n",
       "      <td>0</td>\n",
       "      <td>0</td>\n",
       "      <td>0</td>\n",
       "      <td>0</td>\n",
       "      <td>0</td>\n",
       "      <td>0</td>\n",
       "      <td>0</td>\n",
       "      <td>0</td>\n",
       "      <td>0</td>\n",
       "      <td>0</td>\n",
       "    </tr>\n",
       "    <tr>\n",
       "      <th>24386897</th>\n",
       "      <td>59.15</td>\n",
       "      <td>7</td>\n",
       "      <td>2</td>\n",
       "      <td>28</td>\n",
       "      <td>1</td>\n",
       "      <td>0</td>\n",
       "      <td>0</td>\n",
       "      <td>0</td>\n",
       "      <td>0</td>\n",
       "      <td>0</td>\n",
       "      <td>...</td>\n",
       "      <td>0</td>\n",
       "      <td>0</td>\n",
       "      <td>0</td>\n",
       "      <td>0</td>\n",
       "      <td>0</td>\n",
       "      <td>0</td>\n",
       "      <td>0</td>\n",
       "      <td>0</td>\n",
       "      <td>0</td>\n",
       "      <td>0</td>\n",
       "    </tr>\n",
       "    <tr>\n",
       "      <th>24386898</th>\n",
       "      <td>43.12</td>\n",
       "      <td>20</td>\n",
       "      <td>2</td>\n",
       "      <td>28</td>\n",
       "      <td>1</td>\n",
       "      <td>0</td>\n",
       "      <td>0</td>\n",
       "      <td>0</td>\n",
       "      <td>0</td>\n",
       "      <td>0</td>\n",
       "      <td>...</td>\n",
       "      <td>0</td>\n",
       "      <td>0</td>\n",
       "      <td>0</td>\n",
       "      <td>0</td>\n",
       "      <td>0</td>\n",
       "      <td>0</td>\n",
       "      <td>0</td>\n",
       "      <td>0</td>\n",
       "      <td>0</td>\n",
       "      <td>0</td>\n",
       "    </tr>\n",
       "    <tr>\n",
       "      <th>24386899</th>\n",
       "      <td>45.13</td>\n",
       "      <td>23</td>\n",
       "      <td>2</td>\n",
       "      <td>28</td>\n",
       "      <td>1</td>\n",
       "      <td>0</td>\n",
       "      <td>0</td>\n",
       "      <td>0</td>\n",
       "      <td>0</td>\n",
       "      <td>0</td>\n",
       "      <td>...</td>\n",
       "      <td>0</td>\n",
       "      <td>0</td>\n",
       "      <td>0</td>\n",
       "      <td>0</td>\n",
       "      <td>0</td>\n",
       "      <td>0</td>\n",
       "      <td>0</td>\n",
       "      <td>0</td>\n",
       "      <td>0</td>\n",
       "      <td>0</td>\n",
       "    </tr>\n",
       "  </tbody>\n",
       "</table>\n",
       "<p>24386900 rows × 97 columns</p>\n",
       "</div>"
      ],
      "text/plain": [
       "          Amount  hour  Month  Day  Use Chip_Chip Transaction  \\\n",
       "0         134.09     6      9    1                          0   \n",
       "1          38.48     6      9    1                          0   \n",
       "2         120.34     6      9    2                          0   \n",
       "3         128.95    17      9    2                          0   \n",
       "4         104.71     6      9    3                          0   \n",
       "...          ...   ...    ...  ...                        ...   \n",
       "24386895  -54.00    22      2   27                          1   \n",
       "24386896   54.00    22      2   27                          1   \n",
       "24386897   59.15     7      2   28                          1   \n",
       "24386898   43.12    20      2   28                          1   \n",
       "24386899   45.13    23      2   28                          1   \n",
       "\n",
       "          Use Chip_Online Transaction  Use Chip_Swipe Transaction  \\\n",
       "0                                   0                           1   \n",
       "1                                   0                           1   \n",
       "2                                   0                           1   \n",
       "3                                   0                           1   \n",
       "4                                   0                           1   \n",
       "...                               ...                         ...   \n",
       "24386895                            0                           0   \n",
       "24386896                            0                           0   \n",
       "24386897                            0                           0   \n",
       "24386898                            0                           0   \n",
       "24386899                            0                           0   \n",
       "\n",
       "          errors_group_Bad CVV  errors_group_Bad Card Number  \\\n",
       "0                            0                             0   \n",
       "1                            0                             0   \n",
       "2                            0                             0   \n",
       "3                            0                             0   \n",
       "4                            0                             0   \n",
       "...                        ...                           ...   \n",
       "24386895                     0                             0   \n",
       "24386896                     0                             0   \n",
       "24386897                     0                             0   \n",
       "24386898                     0                             0   \n",
       "24386899                     0                             0   \n",
       "\n",
       "          errors_group_Bad Expiration  ...  mcc_group_7538  mcc_group_7542  \\\n",
       "0                                   0  ...               0               0   \n",
       "1                                   0  ...               0               0   \n",
       "2                                   0  ...               0               0   \n",
       "3                                   0  ...               0               0   \n",
       "4                                   0  ...               0               0   \n",
       "...                               ...  ...             ...             ...   \n",
       "24386895                            0  ...               0               0   \n",
       "24386896                            0  ...               0               0   \n",
       "24386897                            0  ...               0               0   \n",
       "24386898                            0  ...               0               0   \n",
       "24386899                            0  ...               0               0   \n",
       "\n",
       "          mcc_group_7801  mcc_group_7832  mcc_group_7922  mcc_group_7995  \\\n",
       "0                      0               0               0               0   \n",
       "1                      0               0               0               0   \n",
       "2                      0               0               0               0   \n",
       "3                      0               0               0               0   \n",
       "4                      0               0               0               0   \n",
       "...                  ...             ...             ...             ...   \n",
       "24386895               0               0               0               0   \n",
       "24386896               0               0               0               0   \n",
       "24386897               0               0               0               0   \n",
       "24386898               0               0               0               0   \n",
       "24386899               0               0               0               0   \n",
       "\n",
       "          mcc_group_8011  mcc_group_8021  mcc_group_9402  mcc_group_Other  \n",
       "0                      0               0               0                0  \n",
       "1                      0               0               0                0  \n",
       "2                      0               0               0                0  \n",
       "3                      0               0               0                0  \n",
       "4                      0               0               0                0  \n",
       "...                  ...             ...             ...              ...  \n",
       "24386895               0               0               0                0  \n",
       "24386896               0               0               0                0  \n",
       "24386897               0               0               0                0  \n",
       "24386898               0               0               0                0  \n",
       "24386899               0               0               0                0  \n",
       "\n",
       "[24386900 rows x 97 columns]"
      ]
     },
     "execution_count": 36,
     "metadata": {},
     "output_type": "execute_result"
    }
   ],
   "source": [
    "features_set = pd.get_dummies(features_set)\n",
    "features_set"
   ]
  },
  {
   "cell_type": "code",
   "execution_count": 37,
   "id": "77b0a067",
   "metadata": {},
   "outputs": [
    {
     "data": {
      "text/plain": [
       "count    2.438690e+07\n",
       "mean     1.220204e-03\n",
       "std      3.491011e-02\n",
       "min      0.000000e+00\n",
       "25%      0.000000e+00\n",
       "50%      0.000000e+00\n",
       "75%      0.000000e+00\n",
       "max      1.000000e+00\n",
       "Name: Is Fraud?, dtype: float64"
      ]
     },
     "execution_count": 37,
     "metadata": {},
     "output_type": "execute_result"
    }
   ],
   "source": [
    "target = transactions_df['Is Fraud?']\n",
    "target.describe()"
   ]
  },
  {
   "cell_type": "markdown",
   "id": "9708f86e",
   "metadata": {},
   "source": [
    "# Model Building\n",
    "For the model, I decided to fit a Random Forest. This will allow us to get:\n",
    "- Features importance: to determine the importance of each feature to predict the fraud.\n",
    "- Out-of-bag Score: to get an idea of the actual performance of the model (to be compared to test metrics).\n",
    "\n",
    "Ideally, the hyper-parameters of the model should be optimized with some technique, like K-fold cross-validation.\n",
    "But we'll choose some robuts & generic parameters for simplicity purposes. Some observations:\n",
    "- using 500 estimators as a robuts number of decision trees.\n",
    "- using max_depth, min_samples_split, min_samples_leaf, and max_features parameters to have weak learners.\n",
    "- using max_samples = 30000 (for practical purposes)\n",
    "- using class_weight='balanced' so that each sample is balanced on the target"
   ]
  },
  {
   "cell_type": "code",
   "execution_count": 38,
   "id": "685c3fec",
   "metadata": {},
   "outputs": [],
   "source": [
    "from sklearn.model_selection import train_test_split\n",
    "from sklearn.ensemble import RandomForestClassifier"
   ]
  },
  {
   "cell_type": "code",
   "execution_count": 39,
   "id": "a3c77dad",
   "metadata": {},
   "outputs": [],
   "source": [
    "X_train, X_test, y_train, y_test = train_test_split(features_set, target, test_size=0.4, random_state=42, stratify=target)"
   ]
  },
  {
   "cell_type": "code",
   "execution_count": 40,
   "id": "4f5d1292",
   "metadata": {},
   "outputs": [],
   "source": [
    "max_samples = 30000"
   ]
  },
  {
   "cell_type": "code",
   "execution_count": 41,
   "id": "c74ca850",
   "metadata": {},
   "outputs": [],
   "source": [
    "clf = RandomForestClassifier(n_estimators=500, max_depth=3, min_samples_split=50, min_samples_leaf=25, max_features='sqrt',\n",
    "                             max_samples=max_samples, bootstrap=True, oob_score=True, n_jobs=-1, class_weight='balanced', \n",
    "                             verbose=1, random_state=500)"
   ]
  },
  {
   "cell_type": "code",
   "execution_count": 42,
   "id": "d52236d6",
   "metadata": {},
   "outputs": [
    {
     "name": "stderr",
     "output_type": "stream",
     "text": [
      "[Parallel(n_jobs=-1)]: Using backend ThreadingBackend with 8 concurrent workers.\n",
      "[Parallel(n_jobs=-1)]: Done  34 tasks      | elapsed:   36.3s\n",
      "[Parallel(n_jobs=-1)]: Done 184 tasks      | elapsed:  2.8min\n",
      "[Parallel(n_jobs=-1)]: Done 434 tasks      | elapsed:  6.5min\n",
      "[Parallel(n_jobs=-1)]: Done 500 out of 500 | elapsed:  7.6min finished\n"
     ]
    },
    {
     "data": {
      "text/plain": [
       "RandomForestClassifier(class_weight='balanced', max_depth=3,\n",
       "                       max_features='sqrt', max_samples=30000,\n",
       "                       min_samples_leaf=25, min_samples_split=50,\n",
       "                       n_estimators=500, n_jobs=-1, oob_score=True,\n",
       "                       random_state=500, verbose=1)"
      ]
     },
     "execution_count": 42,
     "metadata": {},
     "output_type": "execute_result"
    }
   ],
   "source": [
    "clf.fit(X_train, y_train)"
   ]
  },
  {
   "cell_type": "code",
   "execution_count": 43,
   "id": "afa73428",
   "metadata": {},
   "outputs": [
    {
     "name": "stderr",
     "output_type": "stream",
     "text": [
      "[Parallel(n_jobs=8)]: Using backend ThreadingBackend with 8 concurrent workers.\n",
      "[Parallel(n_jobs=8)]: Done  34 tasks      | elapsed:    8.3s\n",
      "[Parallel(n_jobs=8)]: Done 184 tasks      | elapsed:   38.9s\n",
      "[Parallel(n_jobs=8)]: Done 434 tasks      | elapsed:  1.5min\n",
      "[Parallel(n_jobs=8)]: Done 500 out of 500 | elapsed:  1.7min finished\n"
     ]
    }
   ],
   "source": [
    "y_pred = clf.predict(X_test)"
   ]
  },
  {
   "cell_type": "markdown",
   "id": "5803146c",
   "metadata": {},
   "source": [
    "# Evaluation Metrics\n",
    "From the classification report, we can see how most of the metrics seem to be around 88% in average.\n",
    "The Out-of-bag score we get from the random forest classifier is also very close to 88%. This is a good indicator that the model did not overfit or underfit.\n",
    "In addition, the weighted avg for precision, recall, and thus F1-score are also close to 88%."
   ]
  },
  {
   "cell_type": "code",
   "execution_count": 44,
   "id": "6c266091",
   "metadata": {},
   "outputs": [
    {
     "name": "stdout",
     "output_type": "stream",
     "text": [
      "              precision    recall  f1-score   support\n",
      "\n",
      "           0       1.00      0.88      0.94   9742857\n",
      "           1       0.01      0.77      0.02     11903\n",
      "\n",
      "    accuracy                           0.88   9754760\n",
      "   macro avg       0.50      0.82      0.48   9754760\n",
      "weighted avg       1.00      0.88      0.94   9754760\n",
      "\n"
     ]
    }
   ],
   "source": [
    "from sklearn.metrics import classification_report, confusion_matrix, ConfusionMatrixDisplay\n",
    "\n",
    "report = classification_report(y_test, y_pred)\n",
    "print(report)"
   ]
  },
  {
   "cell_type": "code",
   "execution_count": 146,
   "id": "a39468aa",
   "metadata": {},
   "outputs": [
    {
     "name": "stdout",
     "output_type": "stream",
     "text": [
      "Out-of-bag score: 0.88\n"
     ]
    }
   ],
   "source": [
    "print(\"Out-of-bag score: {:.2f}\".format(clf.oob_score_))"
   ]
  },
  {
   "cell_type": "markdown",
   "id": "ec66df44",
   "metadata": {},
   "source": [
    "## Confusion Matrix\n",
    "Something we can notice on the confusion Matrix, is that the model doesn't seem to have a specific bias to any of the classes. Nevertheless, the recall on the positive label could be increased to be also above 80%, by fine-tuning the model. This will increase number of True-Positive cases and reduce number of False-Positive cases (currently 12% of normal transactions are classified as fraudulent).\n",
    "\n",
    "A good property we can observe, is that given the high recall (around 77% on positive class) it means that the model is able to capture most of the fraudulent transactions."
   ]
  },
  {
   "cell_type": "code",
   "execution_count": 46,
   "id": "113b5cf7",
   "metadata": {},
   "outputs": [
    {
     "data": {
      "text/plain": [
       "<sklearn.metrics._plot.confusion_matrix.ConfusionMatrixDisplay at 0x1ee0dabad60>"
      ]
     },
     "execution_count": 46,
     "metadata": {},
     "output_type": "execute_result"
    },
    {
     "data": {
      "image/png": "[encoded data removed]",
      "text/plain": [
       "<Figure size 432x288 with 2 Axes>"
      ]
     },
     "metadata": {
      "needs_background": "light"
     },
     "output_type": "display_data"
    }
   ],
   "source": [
    "cm = confusion_matrix(y_test, y_pred, normalize='true')\n",
    "disp = ConfusionMatrixDisplay(confusion_matrix=cm)\n",
    "disp.plot()"
   ]
  },
  {
   "cell_type": "markdown",
   "id": "663629c2",
   "metadata": {},
   "source": [
    "## Features Importance\n",
    "We have 97 features in total. From the random_forest, we can get the importances of the features based on information gain.\n",
    "As can be seen, the top 20 most important features are:\n",
    "- merchant_state_group_Other     \n",
    "- Use Chip_Online Transaction\n",
    "- Use Chip_Swipe Transaction\n",
    "- Amount                         \n",
    "- mcc_group_Other                \n",
    "- hour                                                       \n",
    "- mcc_group_5311                                    \n",
    "- mcc_group_5541                 \n",
    "- mcc_group_5499                                                \n",
    "- Day                            \n",
    "- mcc_group_5411  \n",
    "- merchant_state_group_TX \n",
    "- Month                          \n",
    "- mcc_group_4784      \n",
    "- merchant_state_group_CA  \n",
    "- Use Chip_Chip Transaction\n",
    "- mcc_group_5310                 \n",
    "- merchant_state_group_FL\n",
    "- merchant_state_group_NY  \n",
    "- mcc_group_5812                 \n",
    "\n",
    "These 20 features by themselves make up around 92% of the cummulative importance.\n",
    "In addition, we could use these importances to remove unimportant features. \n",
    "Around 52 features have importance which is technically zero (less than 0.1%). \n",
    "By removing these, and refitting the model, we might compare how the performance is impacted.\n",
    "\n",
    "It is interesting to see the Merchant State which seem important. *Other* being the most important feature might be an indicator that when transactions are not in the most common states, that it is a fraudulent one (anomaly):\n",
    "- Other\n",
    "- TX\n",
    "- CA\n",
    "- FL\n",
    "- NY\n",
    "\n",
    "Another interesting aspect from features importance, is to see the descriptions for this important mccs:\n",
    "- 5311: Department Stores\n",
    "- 5541: Service Stations\n",
    "- 5499: Misc. Food Stores – Convenience Stores and Specialty Markets\n",
    "- 5411: Grocery Stores, Supermarkets\n",
    "- 4784: Toll and Bridge Fees\n",
    "- 5310: Discount Stores\n",
    "- 5812: Eating places and Restaurants\n",
    "\n",
    "Most of these were already identified from our previous analysis. However, these two were not part of the top 20, but ended up being important: \n",
    "- 5499: Misc. Food Stores – Convenience Stores and Specialty Markets\n",
    "- 4784: Toll and Bridge Fees"
   ]
  },
  {
   "cell_type": "code",
   "execution_count": 147,
   "id": "3d6f71d3",
   "metadata": {},
   "outputs": [
    {
     "data": {
      "text/plain": [
       "merchant_state_group_Other     0.192244\n",
       "Use Chip_Online Transaction    0.145591\n",
       "Use Chip_Swipe Transaction     0.107783\n",
       "Amount                         0.098725\n",
       "mcc_group_Other                0.087334\n",
       "hour                           0.049662\n",
       "mcc_group_5311                 0.031804\n",
       "mcc_group_5541                 0.022936\n",
       "mcc_group_5499                 0.022693\n",
       "Day                            0.020812\n",
       "mcc_group_5411                 0.020566\n",
       "merchant_state_group_TX        0.018826\n",
       "Month                          0.016790\n",
       "mcc_group_4784                 0.015744\n",
       "merchant_state_group_CA        0.015725\n",
       "Use Chip_Chip Transaction      0.014976\n",
       "mcc_group_5310                 0.011351\n",
       "merchant_state_group_FL        0.010636\n",
       "merchant_state_group_NY        0.010240\n",
       "mcc_group_5812                 0.008677\n",
       "dtype: float64"
      ]
     },
     "execution_count": 147,
     "metadata": {},
     "output_type": "execute_result"
    }
   ],
   "source": [
    "forest_importances = pd.Series(clf.feature_importances_, index=features_set.columns)\n",
    "forest_importances.sort_values(ascending=False, inplace=True)\n",
    "forest_importances[:20]"
   ]
  },
  {
   "cell_type": "code",
   "execution_count": 48,
   "id": "8913f4bc",
   "metadata": {},
   "outputs": [
    {
     "name": "stdout",
     "output_type": "stream",
     "text": [
      "Cummulative importance for top 20 features: 0.9231144870995655\n"
     ]
    }
   ],
   "source": [
    "print(f\"Cummulative importance for top 20 features: {forest_importances[:20].sum()}\")"
   ]
  },
  {
   "cell_type": "code",
   "execution_count": 49,
   "id": "49acf0f4",
   "metadata": {},
   "outputs": [
    {
     "name": "stdout",
     "output_type": "stream",
     "text": [
      "Number of unimportant features: 52\n"
     ]
    }
   ],
   "source": [
    "print(f\"Number of unimportant features: {(forest_importances < 0.001).sum()}\")"
   ]
  }
 ],
 "metadata": {
  "kernelspec": {
   "display_name": "Python 3",
   "language": "python",
   "name": "python3"
  },
  "language_info": {
   "codemirror_mode": {
    "name": "ipython",
    "version": 3
   },
   "file_extension": ".py",
   "mimetype": "text/x-python",
   "name": "python",
   "nbconvert_exporter": "python",
   "pygments_lexer": "ipython3",
   "version": "3.9.5"
  }
 },
 "nbformat": 4,
 "nbformat_minor": 5
}
